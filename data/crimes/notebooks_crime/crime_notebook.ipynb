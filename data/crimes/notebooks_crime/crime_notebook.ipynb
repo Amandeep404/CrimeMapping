{
 "cells": [
  {
   "cell_type": "code",
   "execution_count": 7,
   "metadata": {
    "collapsed": true,
    "ExecuteTime": {
     "end_time": "2023-09-02T15:50:52.417380200Z",
     "start_time": "2023-09-02T15:50:52.415377700Z"
    }
   },
   "outputs": [],
   "source": [
    "import pandas as pd\n",
    "import numpy as np"
   ]
  },
  {
   "cell_type": "code",
   "execution_count": 9,
   "outputs": [],
   "source": [
    "data1 = pd.read_csv('01_district_wise_crimes_committed_ipc_2001_2012.csv')"
   ],
   "metadata": {
    "collapsed": false,
    "ExecuteTime": {
     "end_time": "2023-09-02T15:51:09.400895800Z",
     "start_time": "2023-09-02T15:51:09.350352600Z"
    }
   }
  },
  {
   "cell_type": "code",
   "execution_count": 10,
   "outputs": [
    {
     "data": {
      "text/plain": "         state_ut       district  year  murder  attempt_to_murder  \\\n0  ANDHRA PRADESH       ADILABAD  2001     101                 60   \n1  ANDHRA PRADESH      ANANTAPUR  2001     151                125   \n2  ANDHRA PRADESH       CHITTOOR  2001     101                 57   \n3  ANDHRA PRADESH       CUDDAPAH  2001      80                 53   \n4  ANDHRA PRADESH  EAST GODAVARI  2001      82                 67   \n\n   culpable_homicide_not_amounting_to_murder  rape  custodial_rape  \\\n0                                         17    50               0   \n1                                          1    23               0   \n2                                          2    27               0   \n3                                          1    20               0   \n4                                          1    23               0   \n\n   other_rape  kidnapping_abduction  ...  arson  hurt_grevious_hurt  \\\n0          50                    46  ...     30                1131   \n1          23                    53  ...     69                1543   \n2          27                    59  ...     38                2088   \n3          20                    25  ...     23                 795   \n4          23                    49  ...     41                1244   \n\n   dowry_deaths  assault_on_women_with_intent_to_outrage_her_modesty  \\\n0            16                                                149     \n1             7                                                118     \n2            14                                                112     \n3            17                                                126     \n4            12                                                109     \n\n   insult_to_modesty_of_women  cruelty_by_husband_or_his_relatives  \\\n0                          34                                  175   \n1                          24                                  154   \n2                          83                                  186   \n3                          38                                   57   \n4                          58                                  247   \n\n   importation_of_girls_from_foreign_countries  causing_death_by_negligence  \\\n0                                            0                          181   \n1                                            0                          270   \n2                                            0                          404   \n3                                            0                          233   \n4                                            0                          431   \n\n   other_ipc_crimes  total_ipc_crimes  \n0              1518              4154  \n1               754              4125  \n2              1262              5818  \n3              1181              3140  \n4              2313              6507  \n\n[5 rows x 33 columns]",
      "text/html": "<div>\n<style scoped>\n    .dataframe tbody tr th:only-of-type {\n        vertical-align: middle;\n    }\n\n    .dataframe tbody tr th {\n        vertical-align: top;\n    }\n\n    .dataframe thead th {\n        text-align: right;\n    }\n</style>\n<table border=\"1\" class=\"dataframe\">\n  <thead>\n    <tr style=\"text-align: right;\">\n      <th></th>\n      <th>state_ut</th>\n      <th>district</th>\n      <th>year</th>\n      <th>murder</th>\n      <th>attempt_to_murder</th>\n      <th>culpable_homicide_not_amounting_to_murder</th>\n      <th>rape</th>\n      <th>custodial_rape</th>\n      <th>other_rape</th>\n      <th>kidnapping_abduction</th>\n      <th>...</th>\n      <th>arson</th>\n      <th>hurt_grevious_hurt</th>\n      <th>dowry_deaths</th>\n      <th>assault_on_women_with_intent_to_outrage_her_modesty</th>\n      <th>insult_to_modesty_of_women</th>\n      <th>cruelty_by_husband_or_his_relatives</th>\n      <th>importation_of_girls_from_foreign_countries</th>\n      <th>causing_death_by_negligence</th>\n      <th>other_ipc_crimes</th>\n      <th>total_ipc_crimes</th>\n    </tr>\n  </thead>\n  <tbody>\n    <tr>\n      <th>0</th>\n      <td>ANDHRA PRADESH</td>\n      <td>ADILABAD</td>\n      <td>2001</td>\n      <td>101</td>\n      <td>60</td>\n      <td>17</td>\n      <td>50</td>\n      <td>0</td>\n      <td>50</td>\n      <td>46</td>\n      <td>...</td>\n      <td>30</td>\n      <td>1131</td>\n      <td>16</td>\n      <td>149</td>\n      <td>34</td>\n      <td>175</td>\n      <td>0</td>\n      <td>181</td>\n      <td>1518</td>\n      <td>4154</td>\n    </tr>\n    <tr>\n      <th>1</th>\n      <td>ANDHRA PRADESH</td>\n      <td>ANANTAPUR</td>\n      <td>2001</td>\n      <td>151</td>\n      <td>125</td>\n      <td>1</td>\n      <td>23</td>\n      <td>0</td>\n      <td>23</td>\n      <td>53</td>\n      <td>...</td>\n      <td>69</td>\n      <td>1543</td>\n      <td>7</td>\n      <td>118</td>\n      <td>24</td>\n      <td>154</td>\n      <td>0</td>\n      <td>270</td>\n      <td>754</td>\n      <td>4125</td>\n    </tr>\n    <tr>\n      <th>2</th>\n      <td>ANDHRA PRADESH</td>\n      <td>CHITTOOR</td>\n      <td>2001</td>\n      <td>101</td>\n      <td>57</td>\n      <td>2</td>\n      <td>27</td>\n      <td>0</td>\n      <td>27</td>\n      <td>59</td>\n      <td>...</td>\n      <td>38</td>\n      <td>2088</td>\n      <td>14</td>\n      <td>112</td>\n      <td>83</td>\n      <td>186</td>\n      <td>0</td>\n      <td>404</td>\n      <td>1262</td>\n      <td>5818</td>\n    </tr>\n    <tr>\n      <th>3</th>\n      <td>ANDHRA PRADESH</td>\n      <td>CUDDAPAH</td>\n      <td>2001</td>\n      <td>80</td>\n      <td>53</td>\n      <td>1</td>\n      <td>20</td>\n      <td>0</td>\n      <td>20</td>\n      <td>25</td>\n      <td>...</td>\n      <td>23</td>\n      <td>795</td>\n      <td>17</td>\n      <td>126</td>\n      <td>38</td>\n      <td>57</td>\n      <td>0</td>\n      <td>233</td>\n      <td>1181</td>\n      <td>3140</td>\n    </tr>\n    <tr>\n      <th>4</th>\n      <td>ANDHRA PRADESH</td>\n      <td>EAST GODAVARI</td>\n      <td>2001</td>\n      <td>82</td>\n      <td>67</td>\n      <td>1</td>\n      <td>23</td>\n      <td>0</td>\n      <td>23</td>\n      <td>49</td>\n      <td>...</td>\n      <td>41</td>\n      <td>1244</td>\n      <td>12</td>\n      <td>109</td>\n      <td>58</td>\n      <td>247</td>\n      <td>0</td>\n      <td>431</td>\n      <td>2313</td>\n      <td>6507</td>\n    </tr>\n  </tbody>\n</table>\n<p>5 rows × 33 columns</p>\n</div>"
     },
     "execution_count": 10,
     "metadata": {},
     "output_type": "execute_result"
    }
   ],
   "source": [
    "data1.head()"
   ],
   "metadata": {
    "collapsed": false,
    "ExecuteTime": {
     "end_time": "2023-09-02T15:51:20.409682600Z",
     "start_time": "2023-09-02T15:51:20.388610700Z"
    }
   }
  },
  {
   "cell_type": "code",
   "execution_count": 13,
   "outputs": [],
   "source": [
    "data2 = pd.read_csv('01_district_wise_crimes_committed_ipc_2013.csv')"
   ],
   "metadata": {
    "collapsed": false,
    "ExecuteTime": {
     "end_time": "2023-09-02T15:53:09.464527900Z",
     "start_time": "2023-09-02T15:53:09.458249200Z"
    }
   }
  },
  {
   "cell_type": "code",
   "execution_count": 14,
   "outputs": [
    {
     "data": {
      "text/plain": "         state_ut   district  year  murder  attempt_to_murder  \\\n0  Andhra Pradesh   ADILABAD  2013      96                 72   \n1  Andhra Pradesh  ANANTAPUR  2013     156                149   \n2  Andhra Pradesh   CHITTOOR  2013      72                 61   \n3  Andhra Pradesh   CUDDAPAH  2013      93                107   \n4  Andhra Pradesh  CYBERABAD  2013     162                123   \n\n   culpable_homicide_not_amounting_to_murder  rape  custodial_rape  \\\n0                                         13    61           False   \n1                                          3    28           False   \n2                                          2    31           False   \n3                                          7    19           False   \n4                                         16   138           False   \n\n   other_rape  kidnapping_abduction  ...  arson  hurt_grevious_hurt  \\\n0          61                    65  ...     30                2394   \n1          28                   110  ...     29                2537   \n2          31                    52  ...     18                 937   \n3          19                    84  ...     34                2310   \n4         138                   192  ...     40                4284   \n\n   dowry_deaths  assault_on_women_with_intent_to_outrage_her_modesty  \\\n0            12                                                197     \n1            23                                                337     \n2            13                                                119     \n3             9                                                318     \n4            43                                                350     \n\n   insult_to_modesty_of_women  cruelty_by_husband_or_his_relatives  \\\n0                         138                                  464   \n1                          43                                  161   \n2                          84                                  435   \n3                         163                                  207   \n4                         338                                 1526   \n\n   importation_of_girls_from_foreign_countries  causing_death_by_negligence  \\\n0                                            0                          376   \n1                                            0                          573   \n2                                            0                          546   \n3                                            0                          464   \n4                                            0                         1104   \n\n   other_ipc_crimes  total_ipc_crimes  \n0              1390              6381  \n1              1634              6913  \n2              2239              5610  \n3              1741              7048  \n4              3139             19992  \n\n[5 rows x 33 columns]",
      "text/html": "<div>\n<style scoped>\n    .dataframe tbody tr th:only-of-type {\n        vertical-align: middle;\n    }\n\n    .dataframe tbody tr th {\n        vertical-align: top;\n    }\n\n    .dataframe thead th {\n        text-align: right;\n    }\n</style>\n<table border=\"1\" class=\"dataframe\">\n  <thead>\n    <tr style=\"text-align: right;\">\n      <th></th>\n      <th>state_ut</th>\n      <th>district</th>\n      <th>year</th>\n      <th>murder</th>\n      <th>attempt_to_murder</th>\n      <th>culpable_homicide_not_amounting_to_murder</th>\n      <th>rape</th>\n      <th>custodial_rape</th>\n      <th>other_rape</th>\n      <th>kidnapping_abduction</th>\n      <th>...</th>\n      <th>arson</th>\n      <th>hurt_grevious_hurt</th>\n      <th>dowry_deaths</th>\n      <th>assault_on_women_with_intent_to_outrage_her_modesty</th>\n      <th>insult_to_modesty_of_women</th>\n      <th>cruelty_by_husband_or_his_relatives</th>\n      <th>importation_of_girls_from_foreign_countries</th>\n      <th>causing_death_by_negligence</th>\n      <th>other_ipc_crimes</th>\n      <th>total_ipc_crimes</th>\n    </tr>\n  </thead>\n  <tbody>\n    <tr>\n      <th>0</th>\n      <td>Andhra Pradesh</td>\n      <td>ADILABAD</td>\n      <td>2013</td>\n      <td>96</td>\n      <td>72</td>\n      <td>13</td>\n      <td>61</td>\n      <td>False</td>\n      <td>61</td>\n      <td>65</td>\n      <td>...</td>\n      <td>30</td>\n      <td>2394</td>\n      <td>12</td>\n      <td>197</td>\n      <td>138</td>\n      <td>464</td>\n      <td>0</td>\n      <td>376</td>\n      <td>1390</td>\n      <td>6381</td>\n    </tr>\n    <tr>\n      <th>1</th>\n      <td>Andhra Pradesh</td>\n      <td>ANANTAPUR</td>\n      <td>2013</td>\n      <td>156</td>\n      <td>149</td>\n      <td>3</td>\n      <td>28</td>\n      <td>False</td>\n      <td>28</td>\n      <td>110</td>\n      <td>...</td>\n      <td>29</td>\n      <td>2537</td>\n      <td>23</td>\n      <td>337</td>\n      <td>43</td>\n      <td>161</td>\n      <td>0</td>\n      <td>573</td>\n      <td>1634</td>\n      <td>6913</td>\n    </tr>\n    <tr>\n      <th>2</th>\n      <td>Andhra Pradesh</td>\n      <td>CHITTOOR</td>\n      <td>2013</td>\n      <td>72</td>\n      <td>61</td>\n      <td>2</td>\n      <td>31</td>\n      <td>False</td>\n      <td>31</td>\n      <td>52</td>\n      <td>...</td>\n      <td>18</td>\n      <td>937</td>\n      <td>13</td>\n      <td>119</td>\n      <td>84</td>\n      <td>435</td>\n      <td>0</td>\n      <td>546</td>\n      <td>2239</td>\n      <td>5610</td>\n    </tr>\n    <tr>\n      <th>3</th>\n      <td>Andhra Pradesh</td>\n      <td>CUDDAPAH</td>\n      <td>2013</td>\n      <td>93</td>\n      <td>107</td>\n      <td>7</td>\n      <td>19</td>\n      <td>False</td>\n      <td>19</td>\n      <td>84</td>\n      <td>...</td>\n      <td>34</td>\n      <td>2310</td>\n      <td>9</td>\n      <td>318</td>\n      <td>163</td>\n      <td>207</td>\n      <td>0</td>\n      <td>464</td>\n      <td>1741</td>\n      <td>7048</td>\n    </tr>\n    <tr>\n      <th>4</th>\n      <td>Andhra Pradesh</td>\n      <td>CYBERABAD</td>\n      <td>2013</td>\n      <td>162</td>\n      <td>123</td>\n      <td>16</td>\n      <td>138</td>\n      <td>False</td>\n      <td>138</td>\n      <td>192</td>\n      <td>...</td>\n      <td>40</td>\n      <td>4284</td>\n      <td>43</td>\n      <td>350</td>\n      <td>338</td>\n      <td>1526</td>\n      <td>0</td>\n      <td>1104</td>\n      <td>3139</td>\n      <td>19992</td>\n    </tr>\n  </tbody>\n</table>\n<p>5 rows × 33 columns</p>\n</div>"
     },
     "execution_count": 14,
     "metadata": {},
     "output_type": "execute_result"
    }
   ],
   "source": [
    "data2.head()"
   ],
   "metadata": {
    "collapsed": false,
    "ExecuteTime": {
     "end_time": "2023-09-02T15:53:14.077702Z",
     "start_time": "2023-09-02T15:53:14.074701500Z"
    }
   }
  },
  {
   "cell_type": "code",
   "execution_count": 15,
   "outputs": [],
   "source": [
    "data3 = pd.read_csv('01_district_wise_crimes_committed_ipc_2014.csv')"
   ],
   "metadata": {
    "collapsed": false,
    "ExecuteTime": {
     "end_time": "2023-09-02T15:53:56.276359400Z",
     "start_time": "2023-09-02T15:53:56.258642100Z"
    }
   }
  },
  {
   "cell_type": "code",
   "execution_count": 16,
   "outputs": [
    {
     "data": {
      "text/plain": "       states_uts          district  year  murder  attempt_to_commit_murder  \\\n0  Andhra Pradesh         Anantapur  2014     134                       171   \n1  Andhra Pradesh          Chittoor  2014      84                       170   \n2  Andhra Pradesh          Cuddapah  2014      80                       162   \n3  Andhra Pradesh     East Godavari  2014      64                        84   \n4  Andhra Pradesh  Guntakal Railway  2014      14                         4   \n\n   culpable_homicide_not_amounting_to_murder  \\\n0                                          8   \n1                                          2   \n2                                          1   \n3                                          2   \n4                                          0   \n\n   attempt_to_commit_culpable_homicide  rape  custodial_rape  \\\n0                                    0    35               0   \n1                                    0    32               0   \n2                                    0    28               0   \n3                                    0    85               0   \n4                                    0     0               0   \n\n   custodial_gang_rape  ...  \\\n0                    0  ...   \n1                    0  ...   \n2                    0  ...   \n3                    0  ...   \n4                    0  ...   \n\n   offences_promoting_enmity_between_different_groups  \\\n0                                                  0    \n1                                                  0    \n2                                                  0    \n3                                                  0    \n4                                                  0    \n\n   promoting_enmity_between_different_groups  \\\n0                                          0   \n1                                          0   \n2                                          0   \n3                                          0   \n4                                          0   \n\n   imputation_assertions_prejudicial_to_national_integration  extortion  \\\n0                                                  0                  0   \n1                                                  0                 19   \n2                                                  0                  0   \n3                                                  0                 32   \n4                                                  0                  0   \n\n   disclosure_of_identity_of_victims  incidence_of_rash_driving  \\\n0                                  0                       1038   \n1                                  0                        249   \n2                                  0                        948   \n3                                  0                         39   \n4                                  0                          1   \n\n   humantrafficking  unnatural_offence  other_ipc_crimes  \\\n0                 0                  0              3800   \n1                 0                  0              2567   \n2                 0                  0              2604   \n3                 0                  0              3791   \n4                 0                  0                37   \n\n   total_cognizable_ipc_crimes  \n0                         8376  \n1                         5374  \n2                         5803  \n3                         7630  \n4                          490  \n\n[5 rows x 91 columns]",
      "text/html": "<div>\n<style scoped>\n    .dataframe tbody tr th:only-of-type {\n        vertical-align: middle;\n    }\n\n    .dataframe tbody tr th {\n        vertical-align: top;\n    }\n\n    .dataframe thead th {\n        text-align: right;\n    }\n</style>\n<table border=\"1\" class=\"dataframe\">\n  <thead>\n    <tr style=\"text-align: right;\">\n      <th></th>\n      <th>states_uts</th>\n      <th>district</th>\n      <th>year</th>\n      <th>murder</th>\n      <th>attempt_to_commit_murder</th>\n      <th>culpable_homicide_not_amounting_to_murder</th>\n      <th>attempt_to_commit_culpable_homicide</th>\n      <th>rape</th>\n      <th>custodial_rape</th>\n      <th>custodial_gang_rape</th>\n      <th>...</th>\n      <th>offences_promoting_enmity_between_different_groups</th>\n      <th>promoting_enmity_between_different_groups</th>\n      <th>imputation_assertions_prejudicial_to_national_integration</th>\n      <th>extortion</th>\n      <th>disclosure_of_identity_of_victims</th>\n      <th>incidence_of_rash_driving</th>\n      <th>humantrafficking</th>\n      <th>unnatural_offence</th>\n      <th>other_ipc_crimes</th>\n      <th>total_cognizable_ipc_crimes</th>\n    </tr>\n  </thead>\n  <tbody>\n    <tr>\n      <th>0</th>\n      <td>Andhra Pradesh</td>\n      <td>Anantapur</td>\n      <td>2014</td>\n      <td>134</td>\n      <td>171</td>\n      <td>8</td>\n      <td>0</td>\n      <td>35</td>\n      <td>0</td>\n      <td>0</td>\n      <td>...</td>\n      <td>0</td>\n      <td>0</td>\n      <td>0</td>\n      <td>0</td>\n      <td>0</td>\n      <td>1038</td>\n      <td>0</td>\n      <td>0</td>\n      <td>3800</td>\n      <td>8376</td>\n    </tr>\n    <tr>\n      <th>1</th>\n      <td>Andhra Pradesh</td>\n      <td>Chittoor</td>\n      <td>2014</td>\n      <td>84</td>\n      <td>170</td>\n      <td>2</td>\n      <td>0</td>\n      <td>32</td>\n      <td>0</td>\n      <td>0</td>\n      <td>...</td>\n      <td>0</td>\n      <td>0</td>\n      <td>0</td>\n      <td>19</td>\n      <td>0</td>\n      <td>249</td>\n      <td>0</td>\n      <td>0</td>\n      <td>2567</td>\n      <td>5374</td>\n    </tr>\n    <tr>\n      <th>2</th>\n      <td>Andhra Pradesh</td>\n      <td>Cuddapah</td>\n      <td>2014</td>\n      <td>80</td>\n      <td>162</td>\n      <td>1</td>\n      <td>0</td>\n      <td>28</td>\n      <td>0</td>\n      <td>0</td>\n      <td>...</td>\n      <td>0</td>\n      <td>0</td>\n      <td>0</td>\n      <td>0</td>\n      <td>0</td>\n      <td>948</td>\n      <td>0</td>\n      <td>0</td>\n      <td>2604</td>\n      <td>5803</td>\n    </tr>\n    <tr>\n      <th>3</th>\n      <td>Andhra Pradesh</td>\n      <td>East Godavari</td>\n      <td>2014</td>\n      <td>64</td>\n      <td>84</td>\n      <td>2</td>\n      <td>0</td>\n      <td>85</td>\n      <td>0</td>\n      <td>0</td>\n      <td>...</td>\n      <td>0</td>\n      <td>0</td>\n      <td>0</td>\n      <td>32</td>\n      <td>0</td>\n      <td>39</td>\n      <td>0</td>\n      <td>0</td>\n      <td>3791</td>\n      <td>7630</td>\n    </tr>\n    <tr>\n      <th>4</th>\n      <td>Andhra Pradesh</td>\n      <td>Guntakal Railway</td>\n      <td>2014</td>\n      <td>14</td>\n      <td>4</td>\n      <td>0</td>\n      <td>0</td>\n      <td>0</td>\n      <td>0</td>\n      <td>0</td>\n      <td>...</td>\n      <td>0</td>\n      <td>0</td>\n      <td>0</td>\n      <td>0</td>\n      <td>0</td>\n      <td>1</td>\n      <td>0</td>\n      <td>0</td>\n      <td>37</td>\n      <td>490</td>\n    </tr>\n  </tbody>\n</table>\n<p>5 rows × 91 columns</p>\n</div>"
     },
     "execution_count": 16,
     "metadata": {},
     "output_type": "execute_result"
    }
   ],
   "source": [
    "data3.head()"
   ],
   "metadata": {
    "collapsed": false,
    "ExecuteTime": {
     "end_time": "2023-09-02T15:54:00.474255100Z",
     "start_time": "2023-09-02T15:54:00.462196Z"
    }
   }
  },
  {
   "cell_type": "code",
   "execution_count": 17,
   "outputs": [],
   "source": [
    "data4 = pd.read_csv('19_motive_or_cause_of_murder_and_culpable_homicide_not_amounting_to_murder.csv')"
   ],
   "metadata": {
    "collapsed": false,
    "ExecuteTime": {
     "end_time": "2023-09-02T15:54:49.985310900Z",
     "start_time": "2023-09-02T15:54:49.951876200Z"
    }
   }
  },
  {
   "cell_type": "code",
   "execution_count": 18,
   "outputs": [
    {
     "data": {
      "text/plain": "   area_name  year  chnamurder_cause_by_terroristextremist  \\\n0     Odisha  2007                                       0   \n1  Jharkhand  2002                                       0   \n2  Jharkhand  2004                                       0   \n3      Bihar  2010                                       0   \n4  Karnataka  2002                                       0   \n\n   chnamurder_cause_casteism  chnamurder_cause_class_conflict  \\\n0                         11                                0   \n1                          3                                2   \n2                          3                                2   \n3                          2                                2   \n4                          1                                0   \n\n   chnamurder_cause_communalism  chnamurder_cause_dowry  \\\n0                             0                       2   \n1                             2                      13   \n2                             2                      13   \n3                             0                      11   \n4                             0                       0   \n\n   chnamurder_cause_for_political_reason  chnamurder_cause_gain  \\\n0                                      0                      0   \n1                                      3                      7   \n2                                      3                      7   \n3                                      0                     47   \n4                                      0                      0   \n\n   chnamurder_cause_love_affairssexual_relations  ...  murder_cause_dowry  \\\n0                                              0  ...                 138   \n1                                              9  ...                  70   \n2                                              9  ...                  70   \n3                                             35  ...                 168   \n4                                              1  ...                  52   \n\n   murder_cause_for_political_reason  murder_cause_gain  \\\n0                                  4                 60   \n1                                 25                103   \n2                                 25                103   \n3                                 24                352   \n4                                  6                 55   \n\n   murder_cause_love_affairssexual_relations  murder_cause_lunacy  \\\n0                                         61                    1   \n1                                        158                    3   \n2                                        158                    3   \n3                                        187                    5   \n4                                        130                    0   \n\n   murder_cause_other_causes_or_motives  \\\n0                                   755   \n1                                   599   \n2                                   599   \n3                                  1228   \n4                                  1093   \n\n   murder_cause_personal_vendetta_or_enmity  murder_cause_property_dispute  \\\n0                                       113                             43   \n1                                       242                            228   \n2                                       242                            228   \n3                                       441                            916   \n4                                       188                             98   \n\n   murder_cause_total  murder_cause_witchcraft  \n0                1210                       28  \n1                1488                       26  \n2                1488                       26  \n3                3362                        2  \n4                1627                        0  \n\n[5 rows x 30 columns]",
      "text/html": "<div>\n<style scoped>\n    .dataframe tbody tr th:only-of-type {\n        vertical-align: middle;\n    }\n\n    .dataframe tbody tr th {\n        vertical-align: top;\n    }\n\n    .dataframe thead th {\n        text-align: right;\n    }\n</style>\n<table border=\"1\" class=\"dataframe\">\n  <thead>\n    <tr style=\"text-align: right;\">\n      <th></th>\n      <th>area_name</th>\n      <th>year</th>\n      <th>chnamurder_cause_by_terroristextremist</th>\n      <th>chnamurder_cause_casteism</th>\n      <th>chnamurder_cause_class_conflict</th>\n      <th>chnamurder_cause_communalism</th>\n      <th>chnamurder_cause_dowry</th>\n      <th>chnamurder_cause_for_political_reason</th>\n      <th>chnamurder_cause_gain</th>\n      <th>chnamurder_cause_love_affairssexual_relations</th>\n      <th>...</th>\n      <th>murder_cause_dowry</th>\n      <th>murder_cause_for_political_reason</th>\n      <th>murder_cause_gain</th>\n      <th>murder_cause_love_affairssexual_relations</th>\n      <th>murder_cause_lunacy</th>\n      <th>murder_cause_other_causes_or_motives</th>\n      <th>murder_cause_personal_vendetta_or_enmity</th>\n      <th>murder_cause_property_dispute</th>\n      <th>murder_cause_total</th>\n      <th>murder_cause_witchcraft</th>\n    </tr>\n  </thead>\n  <tbody>\n    <tr>\n      <th>0</th>\n      <td>Odisha</td>\n      <td>2007</td>\n      <td>0</td>\n      <td>11</td>\n      <td>0</td>\n      <td>0</td>\n      <td>2</td>\n      <td>0</td>\n      <td>0</td>\n      <td>0</td>\n      <td>...</td>\n      <td>138</td>\n      <td>4</td>\n      <td>60</td>\n      <td>61</td>\n      <td>1</td>\n      <td>755</td>\n      <td>113</td>\n      <td>43</td>\n      <td>1210</td>\n      <td>28</td>\n    </tr>\n    <tr>\n      <th>1</th>\n      <td>Jharkhand</td>\n      <td>2002</td>\n      <td>0</td>\n      <td>3</td>\n      <td>2</td>\n      <td>2</td>\n      <td>13</td>\n      <td>3</td>\n      <td>7</td>\n      <td>9</td>\n      <td>...</td>\n      <td>70</td>\n      <td>25</td>\n      <td>103</td>\n      <td>158</td>\n      <td>3</td>\n      <td>599</td>\n      <td>242</td>\n      <td>228</td>\n      <td>1488</td>\n      <td>26</td>\n    </tr>\n    <tr>\n      <th>2</th>\n      <td>Jharkhand</td>\n      <td>2004</td>\n      <td>0</td>\n      <td>3</td>\n      <td>2</td>\n      <td>2</td>\n      <td>13</td>\n      <td>3</td>\n      <td>7</td>\n      <td>9</td>\n      <td>...</td>\n      <td>70</td>\n      <td>25</td>\n      <td>103</td>\n      <td>158</td>\n      <td>3</td>\n      <td>599</td>\n      <td>242</td>\n      <td>228</td>\n      <td>1488</td>\n      <td>26</td>\n    </tr>\n    <tr>\n      <th>3</th>\n      <td>Bihar</td>\n      <td>2010</td>\n      <td>0</td>\n      <td>2</td>\n      <td>2</td>\n      <td>0</td>\n      <td>11</td>\n      <td>0</td>\n      <td>47</td>\n      <td>35</td>\n      <td>...</td>\n      <td>168</td>\n      <td>24</td>\n      <td>352</td>\n      <td>187</td>\n      <td>5</td>\n      <td>1228</td>\n      <td>441</td>\n      <td>916</td>\n      <td>3362</td>\n      <td>2</td>\n    </tr>\n    <tr>\n      <th>4</th>\n      <td>Karnataka</td>\n      <td>2002</td>\n      <td>0</td>\n      <td>1</td>\n      <td>0</td>\n      <td>0</td>\n      <td>0</td>\n      <td>0</td>\n      <td>0</td>\n      <td>1</td>\n      <td>...</td>\n      <td>52</td>\n      <td>6</td>\n      <td>55</td>\n      <td>130</td>\n      <td>0</td>\n      <td>1093</td>\n      <td>188</td>\n      <td>98</td>\n      <td>1627</td>\n      <td>0</td>\n    </tr>\n  </tbody>\n</table>\n<p>5 rows × 30 columns</p>\n</div>"
     },
     "execution_count": 18,
     "metadata": {},
     "output_type": "execute_result"
    }
   ],
   "source": [
    "data4.head()"
   ],
   "metadata": {
    "collapsed": false,
    "ExecuteTime": {
     "end_time": "2023-09-02T15:54:54.247676300Z",
     "start_time": "2023-09-02T15:54:54.234649700Z"
    }
   }
  },
  {
   "cell_type": "code",
   "execution_count": 29,
   "outputs": [],
   "source": [
    "##  Concating common columns in the three data\n",
    "\n",
    "common_columns = list(set(data1.columns) & set(data2.columns) & set(data3.columns))\n",
    "\n",
    "# Concatenate the DataFrames using the common columns\n",
    "concatenated_df = pd.concat([data1[common_columns], data2[common_columns], data3[common_columns]])\n",
    "\n",
    "concatenated_df.reset_index(drop=True, inplace=True)\n",
    "\n"
   ],
   "metadata": {
    "collapsed": false,
    "ExecuteTime": {
     "end_time": "2023-09-02T16:09:33.515011Z",
     "start_time": "2023-09-02T16:09:33.508578500Z"
    }
   }
  },
  {
   "cell_type": "code",
   "execution_count": 30,
   "outputs": [
    {
     "data": {
      "text/plain": "       rape        state_ut  arson  cruelty_by_husband_or_his_relatives  \\\n0        50  ANDHRA PRADESH     30                                  175   \n1        23  ANDHRA PRADESH     69                                  154   \n2        27  ANDHRA PRADESH     38                                  186   \n3        20  ANDHRA PRADESH     23                                   57   \n4        23  ANDHRA PRADESH     41                                  247   \n...     ...             ...    ...                                  ...   \n10673     1     Lakshadweep      5                                    0   \n10674     1     Lakshadweep      5                                    0   \n10675     3      Puducherry      0                                    1   \n10676     7      Puducherry      1                                    3   \n10677    10      Puducherry      1                                    4   \n\n       robbery  culpable_homicide_not_amounting_to_murder  custodial_rape  \\\n0           41                                         17               0   \n1           16                                          1               0   \n2           14                                          2               0   \n3            4                                          1               0   \n4           25                                          1               0   \n...        ...                                        ...             ...   \n10673        0                                          0               0   \n10674        0                                          0               0   \n10675        1                                          0               0   \n10676        5                                          3               1   \n10677        6                                          3               1   \n\n       theft  riots  year  ...  causing_death_by_negligence  \\\n0        199     78  2001  ...                          181   \n1        366    168  2001  ...                          270   \n2        723    156  2001  ...                          404   \n3        173    164  2001  ...                          233   \n4       1021     70  2001  ...                          431   \n...      ...    ...   ...  ...                          ...   \n10673     15      9  2014  ...                            0   \n10674     15      9  2014  ...                            0   \n10675     33      5  2014  ...                           44   \n10676    391     34  2014  ...                          165   \n10677    424     39  2014  ...                          209   \n\n       kidnapping_abduction  dacoity  cheating  murder  \\\n0                        46        9       104     101   \n1                        53        8        65     151   \n2                        59        4       209     101   \n3                        25        1        37      80   \n4                        49        4       220      82   \n...                     ...      ...       ...     ...   \n10673                     0        0         0       0   \n10674                     0        0         0       0   \n10675                     1        1         4       6   \n10676                     7        2        55      19   \n10677                     8        3        59      25   \n\n       criminal_breach_of_trust  other_ipc_crimes       district dowry_deaths  \\\n0                            16              1518       ADILABAD           16   \n1                            11               754      ANANTAPUR            7   \n2                            33              1262       CHITTOOR           14   \n3                            12              1181       CUDDAPAH           17   \n4                            50              2313  EAST GODAVARI           12   \n...                         ...               ...            ...          ...   \n10673                         2                30    Lakshadweep            0   \n10674                         2                30          Total            0   \n10675                         1               322       Karaikal            0   \n10676                         6              1014     Puducherry            1   \n10677                         7              1336          Total            1   \n\n       assault_on_women_with_intent_to_outrage_her_modesty  \n0                                                    149    \n1                                                    118    \n2                                                    112    \n3                                                    126    \n4                                                    109    \n...                                                  ...    \n10673                                                  1    \n10674                                                  1    \n10675                                                 12    \n10676                                                 20    \n10677                                                 32    \n\n[10678 rows x 21 columns]",
      "text/html": "<div>\n<style scoped>\n    .dataframe tbody tr th:only-of-type {\n        vertical-align: middle;\n    }\n\n    .dataframe tbody tr th {\n        vertical-align: top;\n    }\n\n    .dataframe thead th {\n        text-align: right;\n    }\n</style>\n<table border=\"1\" class=\"dataframe\">\n  <thead>\n    <tr style=\"text-align: right;\">\n      <th></th>\n      <th>rape</th>\n      <th>state_ut</th>\n      <th>arson</th>\n      <th>cruelty_by_husband_or_his_relatives</th>\n      <th>robbery</th>\n      <th>culpable_homicide_not_amounting_to_murder</th>\n      <th>custodial_rape</th>\n      <th>theft</th>\n      <th>riots</th>\n      <th>year</th>\n      <th>...</th>\n      <th>causing_death_by_negligence</th>\n      <th>kidnapping_abduction</th>\n      <th>dacoity</th>\n      <th>cheating</th>\n      <th>murder</th>\n      <th>criminal_breach_of_trust</th>\n      <th>other_ipc_crimes</th>\n      <th>district</th>\n      <th>dowry_deaths</th>\n      <th>assault_on_women_with_intent_to_outrage_her_modesty</th>\n    </tr>\n  </thead>\n  <tbody>\n    <tr>\n      <th>0</th>\n      <td>50</td>\n      <td>ANDHRA PRADESH</td>\n      <td>30</td>\n      <td>175</td>\n      <td>41</td>\n      <td>17</td>\n      <td>0</td>\n      <td>199</td>\n      <td>78</td>\n      <td>2001</td>\n      <td>...</td>\n      <td>181</td>\n      <td>46</td>\n      <td>9</td>\n      <td>104</td>\n      <td>101</td>\n      <td>16</td>\n      <td>1518</td>\n      <td>ADILABAD</td>\n      <td>16</td>\n      <td>149</td>\n    </tr>\n    <tr>\n      <th>1</th>\n      <td>23</td>\n      <td>ANDHRA PRADESH</td>\n      <td>69</td>\n      <td>154</td>\n      <td>16</td>\n      <td>1</td>\n      <td>0</td>\n      <td>366</td>\n      <td>168</td>\n      <td>2001</td>\n      <td>...</td>\n      <td>270</td>\n      <td>53</td>\n      <td>8</td>\n      <td>65</td>\n      <td>151</td>\n      <td>11</td>\n      <td>754</td>\n      <td>ANANTAPUR</td>\n      <td>7</td>\n      <td>118</td>\n    </tr>\n    <tr>\n      <th>2</th>\n      <td>27</td>\n      <td>ANDHRA PRADESH</td>\n      <td>38</td>\n      <td>186</td>\n      <td>14</td>\n      <td>2</td>\n      <td>0</td>\n      <td>723</td>\n      <td>156</td>\n      <td>2001</td>\n      <td>...</td>\n      <td>404</td>\n      <td>59</td>\n      <td>4</td>\n      <td>209</td>\n      <td>101</td>\n      <td>33</td>\n      <td>1262</td>\n      <td>CHITTOOR</td>\n      <td>14</td>\n      <td>112</td>\n    </tr>\n    <tr>\n      <th>3</th>\n      <td>20</td>\n      <td>ANDHRA PRADESH</td>\n      <td>23</td>\n      <td>57</td>\n      <td>4</td>\n      <td>1</td>\n      <td>0</td>\n      <td>173</td>\n      <td>164</td>\n      <td>2001</td>\n      <td>...</td>\n      <td>233</td>\n      <td>25</td>\n      <td>1</td>\n      <td>37</td>\n      <td>80</td>\n      <td>12</td>\n      <td>1181</td>\n      <td>CUDDAPAH</td>\n      <td>17</td>\n      <td>126</td>\n    </tr>\n    <tr>\n      <th>4</th>\n      <td>23</td>\n      <td>ANDHRA PRADESH</td>\n      <td>41</td>\n      <td>247</td>\n      <td>25</td>\n      <td>1</td>\n      <td>0</td>\n      <td>1021</td>\n      <td>70</td>\n      <td>2001</td>\n      <td>...</td>\n      <td>431</td>\n      <td>49</td>\n      <td>4</td>\n      <td>220</td>\n      <td>82</td>\n      <td>50</td>\n      <td>2313</td>\n      <td>EAST GODAVARI</td>\n      <td>12</td>\n      <td>109</td>\n    </tr>\n    <tr>\n      <th>...</th>\n      <td>...</td>\n      <td>...</td>\n      <td>...</td>\n      <td>...</td>\n      <td>...</td>\n      <td>...</td>\n      <td>...</td>\n      <td>...</td>\n      <td>...</td>\n      <td>...</td>\n      <td>...</td>\n      <td>...</td>\n      <td>...</td>\n      <td>...</td>\n      <td>...</td>\n      <td>...</td>\n      <td>...</td>\n      <td>...</td>\n      <td>...</td>\n      <td>...</td>\n      <td>...</td>\n    </tr>\n    <tr>\n      <th>10673</th>\n      <td>1</td>\n      <td>Lakshadweep</td>\n      <td>5</td>\n      <td>0</td>\n      <td>0</td>\n      <td>0</td>\n      <td>0</td>\n      <td>15</td>\n      <td>9</td>\n      <td>2014</td>\n      <td>...</td>\n      <td>0</td>\n      <td>0</td>\n      <td>0</td>\n      <td>0</td>\n      <td>0</td>\n      <td>2</td>\n      <td>30</td>\n      <td>Lakshadweep</td>\n      <td>0</td>\n      <td>1</td>\n    </tr>\n    <tr>\n      <th>10674</th>\n      <td>1</td>\n      <td>Lakshadweep</td>\n      <td>5</td>\n      <td>0</td>\n      <td>0</td>\n      <td>0</td>\n      <td>0</td>\n      <td>15</td>\n      <td>9</td>\n      <td>2014</td>\n      <td>...</td>\n      <td>0</td>\n      <td>0</td>\n      <td>0</td>\n      <td>0</td>\n      <td>0</td>\n      <td>2</td>\n      <td>30</td>\n      <td>Total</td>\n      <td>0</td>\n      <td>1</td>\n    </tr>\n    <tr>\n      <th>10675</th>\n      <td>3</td>\n      <td>Puducherry</td>\n      <td>0</td>\n      <td>1</td>\n      <td>1</td>\n      <td>0</td>\n      <td>0</td>\n      <td>33</td>\n      <td>5</td>\n      <td>2014</td>\n      <td>...</td>\n      <td>44</td>\n      <td>1</td>\n      <td>1</td>\n      <td>4</td>\n      <td>6</td>\n      <td>1</td>\n      <td>322</td>\n      <td>Karaikal</td>\n      <td>0</td>\n      <td>12</td>\n    </tr>\n    <tr>\n      <th>10676</th>\n      <td>7</td>\n      <td>Puducherry</td>\n      <td>1</td>\n      <td>3</td>\n      <td>5</td>\n      <td>3</td>\n      <td>1</td>\n      <td>391</td>\n      <td>34</td>\n      <td>2014</td>\n      <td>...</td>\n      <td>165</td>\n      <td>7</td>\n      <td>2</td>\n      <td>55</td>\n      <td>19</td>\n      <td>6</td>\n      <td>1014</td>\n      <td>Puducherry</td>\n      <td>1</td>\n      <td>20</td>\n    </tr>\n    <tr>\n      <th>10677</th>\n      <td>10</td>\n      <td>Puducherry</td>\n      <td>1</td>\n      <td>4</td>\n      <td>6</td>\n      <td>3</td>\n      <td>1</td>\n      <td>424</td>\n      <td>39</td>\n      <td>2014</td>\n      <td>...</td>\n      <td>209</td>\n      <td>8</td>\n      <td>3</td>\n      <td>59</td>\n      <td>25</td>\n      <td>7</td>\n      <td>1336</td>\n      <td>Total</td>\n      <td>1</td>\n      <td>32</td>\n    </tr>\n  </tbody>\n</table>\n<p>10678 rows × 21 columns</p>\n</div>"
     },
     "execution_count": 30,
     "metadata": {},
     "output_type": "execute_result"
    }
   ],
   "source": [
    "concatenated_df"
   ],
   "metadata": {
    "collapsed": false,
    "ExecuteTime": {
     "end_time": "2023-09-02T16:09:34.438183200Z",
     "start_time": "2023-09-02T16:09:34.420342400Z"
    }
   }
  },
  {
   "cell_type": "code",
   "execution_count": 31,
   "outputs": [
    {
     "data": {
      "text/plain": "Index(['rape', 'state_ut', 'arson', 'cruelty_by_husband_or_his_relatives',\n       'robbery', 'culpable_homicide_not_amounting_to_murder',\n       'custodial_rape', 'theft', 'riots', 'year', 'auto_theft',\n       'causing_death_by_negligence', 'kidnapping_abduction', 'dacoity',\n       'cheating', 'murder', 'criminal_breach_of_trust', 'other_ipc_crimes',\n       'district', 'dowry_deaths',\n       'assault_on_women_with_intent_to_outrage_her_modesty'],\n      dtype='object')"
     },
     "execution_count": 31,
     "metadata": {},
     "output_type": "execute_result"
    }
   ],
   "source": [
    "concatenated_df.columns"
   ],
   "metadata": {
    "collapsed": false,
    "ExecuteTime": {
     "end_time": "2023-09-02T16:09:39.070863800Z",
     "start_time": "2023-09-02T16:09:39.065860100Z"
    }
   }
  },
  {
   "cell_type": "code",
   "execution_count": 27,
   "outputs": [
    {
     "data": {
      "text/plain": "Index(['state_ut', 'district', 'year', 'murder', 'attempt_to_murder',\n       'culpable_homicide_not_amounting_to_murder', 'rape', 'custodial_rape',\n       'other_rape', 'kidnapping_abduction',\n       'kidnapping_and_abduction_of_women_and_girls',\n       'kidnapping_and_abduction_of_others', 'dacoity',\n       'preparation_and_assembly_for_dacoity', 'robbery', 'burglary', 'theft',\n       'auto_theft', 'other_theft', 'riots', 'criminal_breach_of_trust',\n       'cheating', 'counterfieting', 'arson', 'hurt_grevious_hurt',\n       'dowry_deaths', 'assault_on_women_with_intent_to_outrage_her_modesty',\n       'insult_to_modesty_of_women', 'cruelty_by_husband_or_his_relatives',\n       'importation_of_girls_from_foreign_countries',\n       'causing_death_by_negligence', 'other_ipc_crimes', 'total_ipc_crimes'],\n      dtype='object')"
     },
     "execution_count": 27,
     "metadata": {},
     "output_type": "execute_result"
    }
   ],
   "source": [
    "data2.columns"
   ],
   "metadata": {
    "collapsed": false,
    "ExecuteTime": {
     "end_time": "2023-09-02T16:08:54.277486400Z",
     "start_time": "2023-09-02T16:08:54.271448400Z"
    }
   }
  },
  {
   "cell_type": "code",
   "execution_count": 28,
   "outputs": [],
   "source": [
    "# data3.rename(columns={'states_uts':'state_ut'}, inplace=True)"
   ],
   "metadata": {
    "collapsed": false,
    "ExecuteTime": {
     "end_time": "2023-09-02T16:09:28.825804Z",
     "start_time": "2023-09-02T16:09:28.821804400Z"
    }
   }
  },
  {
   "cell_type": "code",
   "execution_count": 33,
   "outputs": [
    {
     "data": {
      "text/plain": "Index(['rape', 'state_ut', 'arson', 'cruelty_by_husband_or_his_relatives',\n       'robbery', 'culpable_homicide_not_amounting_to_murder',\n       'custodial_rape', 'theft', 'riots', 'year', 'auto_theft',\n       'causing_death_by_negligence', 'kidnapping_abduction', 'dacoity',\n       'cheating', 'murder', 'criminal_breach_of_trust', 'other_ipc_crimes',\n       'district', 'dowry_deaths',\n       'assault_on_women_with_intent_to_outrage_her_modesty'],\n      dtype='object')"
     },
     "execution_count": 33,
     "metadata": {},
     "output_type": "execute_result"
    }
   ],
   "source": [
    "concatenated_df.columns"
   ],
   "metadata": {
    "collapsed": false,
    "ExecuteTime": {
     "end_time": "2023-09-02T16:10:35.057380Z",
     "start_time": "2023-09-02T16:10:35.049682600Z"
    }
   }
  },
  {
   "cell_type": "code",
   "execution_count": 34,
   "outputs": [
    {
     "data": {
      "text/plain": "rape                                                   0\nstate_ut                                               0\narson                                                  0\ncruelty_by_husband_or_his_relatives                    0\nrobbery                                                0\nculpable_homicide_not_amounting_to_murder              0\ncustodial_rape                                         0\ntheft                                                  0\nriots                                                  0\nyear                                                   0\nauto_theft                                             0\ncausing_death_by_negligence                            0\nkidnapping_abduction                                   0\ndacoity                                                0\ncheating                                               0\nmurder                                                 0\ncriminal_breach_of_trust                               0\nother_ipc_crimes                                       0\ndistrict                                               0\ndowry_deaths                                           0\nassault_on_women_with_intent_to_outrage_her_modesty    0\ndtype: int64"
     },
     "execution_count": 34,
     "metadata": {},
     "output_type": "execute_result"
    }
   ],
   "source": [
    "concatenated_df.isnull().sum()"
   ],
   "metadata": {
    "collapsed": false,
    "ExecuteTime": {
     "end_time": "2023-09-02T19:40:31.367447200Z",
     "start_time": "2023-09-02T19:40:31.338278Z"
    }
   }
  },
  {
   "cell_type": "code",
   "execution_count": 42,
   "outputs": [],
   "source": [
    "csv_path = 'CONCAT_CRIME_IPC_DATA_HEAD_500.csv'\n",
    "\n",
    "concatenated_df.head(500).to_csv(csv_path, index=False)"
   ],
   "metadata": {
    "collapsed": false,
    "ExecuteTime": {
     "end_time": "2023-09-02T20:15:15.479012700Z",
     "start_time": "2023-09-02T20:15:15.457788300Z"
    }
   }
  },
  {
   "cell_type": "code",
   "execution_count": 36,
   "outputs": [],
   "source": [
    "concatenated_df = concatenated_df[['state_ut', 'district'] + [col for col in concatenated_df.columns if col not in ['state_ut', 'district']]]"
   ],
   "metadata": {
    "collapsed": false,
    "ExecuteTime": {
     "end_time": "2023-09-02T19:50:14.074278100Z",
     "start_time": "2023-09-02T19:50:14.050136400Z"
    }
   }
  },
  {
   "cell_type": "code",
   "execution_count": 39,
   "outputs": [
    {
     "name": "stderr",
     "output_type": "stream",
     "text": [
      "C:\\Users\\AMANDEEP SINGH\\AppData\\Local\\Temp\\ipykernel_22992\\2873643873.py:1: SettingWithCopyWarning: \n",
      "A value is trying to be set on a copy of a slice from a DataFrame.\n",
      "Try using .loc[row_indexer,col_indexer] = value instead\n",
      "\n",
      "See the caveats in the documentation: https://pandas.pydata.org/pandas-docs/stable/user_guide/indexing.html#returning-a-view-versus-a-copy\n",
      "  concatenated_df['location']=  concatenated_df['state_ut'] + ',' + concatenated_df['district']\n"
     ]
    }
   ],
   "source": [
    "concatenated_df['location']=  concatenated_df['state_ut'] + ',' + concatenated_df['district']"
   ],
   "metadata": {
    "collapsed": false,
    "ExecuteTime": {
     "end_time": "2023-09-02T19:57:43.462413200Z",
     "start_time": "2023-09-02T19:57:43.425715600Z"
    }
   }
  },
  {
   "cell_type": "code",
   "execution_count": 40,
   "outputs": [
    {
     "data": {
      "text/plain": "0             ANDHRA PRADESH,ADILABAD\n1            ANDHRA PRADESH,ANANTAPUR\n2             ANDHRA PRADESH,CHITTOOR\n3             ANDHRA PRADESH,CUDDAPAH\n4        ANDHRA PRADESH,EAST GODAVARI\n                     ...             \n10673         Lakshadweep,Lakshadweep\n10674               Lakshadweep,Total\n10675             Puducherry,Karaikal\n10676           Puducherry,Puducherry\n10677                Puducherry,Total\nName: location, Length: 10678, dtype: object"
     },
     "execution_count": 40,
     "metadata": {},
     "output_type": "execute_result"
    }
   ],
   "source": [
    "concatenated_df['location']"
   ],
   "metadata": {
    "collapsed": false,
    "ExecuteTime": {
     "end_time": "2023-09-02T19:57:54.773279100Z",
     "start_time": "2023-09-02T19:57:54.770275800Z"
    }
   }
  },
  {
   "cell_type": "code",
   "execution_count": null,
   "outputs": [],
   "source": [],
   "metadata": {
    "collapsed": false
   }
  }
 ],
 "metadata": {
  "kernelspec": {
   "display_name": "Python 3",
   "language": "python",
   "name": "python3"
  },
  "language_info": {
   "codemirror_mode": {
    "name": "ipython",
    "version": 2
   },
   "file_extension": ".py",
   "mimetype": "text/x-python",
   "name": "python",
   "nbconvert_exporter": "python",
   "pygments_lexer": "ipython2",
   "version": "2.7.6"
  }
 },
 "nbformat": 4,
 "nbformat_minor": 0
}
