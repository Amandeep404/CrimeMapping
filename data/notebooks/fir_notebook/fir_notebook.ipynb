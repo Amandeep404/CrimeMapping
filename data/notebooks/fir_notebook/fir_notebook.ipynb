{
 "cells": [
  {
   "cell_type": "code",
   "execution_count": 7,
   "metadata": {
    "collapsed": true,
    "ExecuteTime": {
     "end_time": "2023-09-02T12:39:56.321563300Z",
     "start_time": "2023-09-02T12:39:56.289942Z"
    }
   },
   "outputs": [],
   "source": [
    "import pandas as pd\n",
    "import numpy as np"
   ]
  },
  {
   "cell_type": "code",
   "execution_count": 27,
   "outputs": [],
   "source": [
    "fir_data = pd.read_csv('fir_data.csv')"
   ],
   "metadata": {
    "collapsed": false,
    "ExecuteTime": {
     "end_time": "2023-09-02T13:33:19.884689Z",
     "start_time": "2023-09-02T13:33:19.874768600Z"
    }
   }
  },
  {
   "cell_type": "code",
   "execution_count": 28,
   "outputs": [
    {
     "data": {
      "text/plain": "     REGISTERED DISTRICT  Registered PS \n0                     NaN            NaN\n1                   AGRA        KOTWALI \n2                     NaN            NaN\n3                     NaN       PINAHAT \n4                     NaN            NaN\n...                   ...            ...\n1858          GOMTINAGAR      7003/2017 \n1859                  NaN            NaN\n1860          GOMTINAGAR      7004/2017 \n1861                  NaN            NaN\n1862          GOMTINAGAR      7005/2017 \n\n[1863 rows x 2 columns]",
      "text/html": "<div>\n<style scoped>\n    .dataframe tbody tr th:only-of-type {\n        vertical-align: middle;\n    }\n\n    .dataframe tbody tr th {\n        vertical-align: top;\n    }\n\n    .dataframe thead th {\n        text-align: right;\n    }\n</style>\n<table border=\"1\" class=\"dataframe\">\n  <thead>\n    <tr style=\"text-align: right;\">\n      <th></th>\n      <th>REGISTERED DISTRICT</th>\n      <th>Registered PS</th>\n    </tr>\n  </thead>\n  <tbody>\n    <tr>\n      <th>0</th>\n      <td>NaN</td>\n      <td>NaN</td>\n    </tr>\n    <tr>\n      <th>1</th>\n      <td>AGRA</td>\n      <td>KOTWALI</td>\n    </tr>\n    <tr>\n      <th>2</th>\n      <td>NaN</td>\n      <td>NaN</td>\n    </tr>\n    <tr>\n      <th>3</th>\n      <td>NaN</td>\n      <td>PINAHAT</td>\n    </tr>\n    <tr>\n      <th>4</th>\n      <td>NaN</td>\n      <td>NaN</td>\n    </tr>\n    <tr>\n      <th>...</th>\n      <td>...</td>\n      <td>...</td>\n    </tr>\n    <tr>\n      <th>1858</th>\n      <td>GOMTINAGAR</td>\n      <td>7003/2017</td>\n    </tr>\n    <tr>\n      <th>1859</th>\n      <td>NaN</td>\n      <td>NaN</td>\n    </tr>\n    <tr>\n      <th>1860</th>\n      <td>GOMTINAGAR</td>\n      <td>7004/2017</td>\n    </tr>\n    <tr>\n      <th>1861</th>\n      <td>NaN</td>\n      <td>NaN</td>\n    </tr>\n    <tr>\n      <th>1862</th>\n      <td>GOMTINAGAR</td>\n      <td>7005/2017</td>\n    </tr>\n  </tbody>\n</table>\n<p>1863 rows × 2 columns</p>\n</div>"
     },
     "execution_count": 28,
     "metadata": {},
     "output_type": "execute_result"
    }
   ],
   "source": [
    "fir_data[['REGISTERED DISTRICT ', 'Registered PS ']]"
   ],
   "metadata": {
    "collapsed": false,
    "ExecuteTime": {
     "end_time": "2023-09-02T13:33:20.671637700Z",
     "start_time": "2023-09-02T13:33:20.669128600Z"
    }
   }
  },
  {
   "cell_type": "code",
   "execution_count": 31,
   "outputs": [],
   "source": [
    "mask = fir_data[['REGISTERED DISTRICT', 'Registered PS', 'FIR No.']].notna().all(axis=1)"
   ],
   "metadata": {
    "collapsed": false,
    "ExecuteTime": {
     "end_time": "2023-09-02T13:33:45.841093Z",
     "start_time": "2023-09-02T13:33:45.834349500Z"
    }
   }
  },
  {
   "cell_type": "code",
   "execution_count": 37,
   "outputs": [],
   "source": [
    "fir_data = fir_data[mask]"
   ],
   "metadata": {
    "collapsed": false,
    "ExecuteTime": {
     "end_time": "2023-09-02T13:38:47.380647300Z",
     "start_time": "2023-09-02T13:38:47.366464200Z"
    }
   }
  },
  {
   "cell_type": "code",
   "execution_count": 37,
   "outputs": [],
   "source": [],
   "metadata": {
    "collapsed": false,
    "ExecuteTime": {
     "end_time": "2023-09-02T13:38:51.979434800Z",
     "start_time": "2023-09-02T13:38:51.974627500Z"
    }
   }
  },
  {
   "cell_type": "code",
   "execution_count": 38,
   "outputs": [],
   "source": [
    "fir_data.columns = fir_data.columns.str.strip()"
   ],
   "metadata": {
    "collapsed": false,
    "ExecuteTime": {
     "end_time": "2023-09-02T13:38:53.728533100Z",
     "start_time": "2023-09-02T13:38:53.703848100Z"
    }
   }
  },
  {
   "cell_type": "code",
   "execution_count": 39,
   "outputs": [
    {
     "name": "stderr",
     "output_type": "stream",
     "text": [
      "C:\\Users\\AMANDEEP SINGH\\AppData\\Local\\Temp\\ipykernel_20236\\2488980245.py:4: SettingWithCopyWarning: \n",
      "A value is trying to be set on a copy of a slice from a DataFrame\n",
      "\n",
      "See the caveats in the documentation: https://pandas.pydata.org/pandas-docs/stable/user_guide/indexing.html#returning-a-view-versus-a-copy\n",
      "  fir_data.loc[text_in_fir_no, ['Registered PS', 'FIR No.']] = fir_data.loc[text_in_fir_no, ['FIR No.', 'Registered PS']].values\n"
     ]
    }
   ],
   "source": [
    "text_in_fir_no = fir_data['FIR No.'].str.isnumeric() == False\n",
    "\n",
    "# Swap values between 'Registered PS' and 'FIR No.' columns in those rows\n",
    "fir_data.loc[text_in_fir_no, ['Registered PS', 'FIR No.']] = fir_data.loc[text_in_fir_no, ['FIR No.', 'Registered PS']].values"
   ],
   "metadata": {
    "collapsed": false,
    "ExecuteTime": {
     "end_time": "2023-09-02T13:38:57.199940200Z",
     "start_time": "2023-09-02T13:38:57.190954700Z"
    }
   }
  },
  {
   "cell_type": "code",
   "execution_count": 40,
   "outputs": [
    {
     "data": {
      "text/plain": "     Sl No REGISTERED DISTRICT Registered PS     FIR No. TRANSFERRED DISTRICT  \\\n1        1               AGRA       KOTWALI   7002/2017                 ETAH    \n109     30           ETMADPUR     0401/2015     HATHRAS      HATHRAS KOTWALI    \n122     34            CHHARRA     0144/2015     ALIGARH              GANGIRI    \n124     35            ATRAULI     0628/2015     ALIGARH              CHHARRA    \n126     36          BANNADEVI     0381/2015     ALIGARH           DELHI GATE    \n...    ...                 ...           ...         ...                  ...   \n1854   888         GOMTINAGAR     0047/2017     LUCKNOW              GUDAMBA    \n1856   889         GOMTINAGAR     0143/2017     LUCKNOW              CHINHAT    \n1858   890         GOMTINAGAR     7003/2017     LUCKNOW        VIBHUTI KHAND    \n1860   891         GOMTINAGAR     7004/2017     LUCKNOW        VIBHUTI KHAND    \n1862   892         GOMTINAGAR     7005/2017     LUCKNOW        VIBHUTI KHAND    \n\n     Transferred PS                              Re registered FIR No.  \\\n1          JALESAR                                          7001/2017    \n109             NaN  अमभयोग का संबन्ध थाना हाथरस कोतवाली से होने के...   \n122             NaN     घटनास्थल थाना गंगीरी से सम्बंमधत होने के कारण    \n124      0041/2016      वािी और प्रमतवािी िोनों छराट के रहने वाले है।    \n126             NaN                      उच्चामधकारीगण के आिे शानुसार    \n...             ...                                                ...   \n1854            NaN                               घटनास्थल सम्बन्न्धत    \n1856     0200/2017                   घटनास्थल सम्बन्न्धत थाना क्षेत्र    \n1858     0135/2017                                घटनास्थल सम्बन्न्धत    \n1860     0191/2017                   घटनास्थल सम्बन्न्धत थाना क्षेत्र    \n1862     0190/2017                   घटनास्थल सम्बन्न्धत थाना क्षेत्र    \n\n                            Reason for transferring FIR  \n1     घटना स्थल थाना जलेसर एटा का होने के कारण प्राथ...  \n109                                                 NaN  \n122                                                 NaN  \n124                                                 NaN  \n126                                                 NaN  \n...                                                 ...  \n1854                                                NaN  \n1856                                                NaN  \n1858                                                NaN  \n1860                                                NaN  \n1862                                                NaN  \n\n[848 rows x 8 columns]",
      "text/html": "<div>\n<style scoped>\n    .dataframe tbody tr th:only-of-type {\n        vertical-align: middle;\n    }\n\n    .dataframe tbody tr th {\n        vertical-align: top;\n    }\n\n    .dataframe thead th {\n        text-align: right;\n    }\n</style>\n<table border=\"1\" class=\"dataframe\">\n  <thead>\n    <tr style=\"text-align: right;\">\n      <th></th>\n      <th>Sl No</th>\n      <th>REGISTERED DISTRICT</th>\n      <th>Registered PS</th>\n      <th>FIR No.</th>\n      <th>TRANSFERRED DISTRICT</th>\n      <th>Transferred PS</th>\n      <th>Re registered FIR No.</th>\n      <th>Reason for transferring FIR</th>\n    </tr>\n  </thead>\n  <tbody>\n    <tr>\n      <th>1</th>\n      <td>1</td>\n      <td>AGRA</td>\n      <td>KOTWALI</td>\n      <td>7002/2017</td>\n      <td>ETAH</td>\n      <td>JALESAR</td>\n      <td>7001/2017</td>\n      <td>घटना स्थल थाना जलेसर एटा का होने के कारण प्राथ...</td>\n    </tr>\n    <tr>\n      <th>109</th>\n      <td>30</td>\n      <td>ETMADPUR</td>\n      <td>0401/2015</td>\n      <td>HATHRAS</td>\n      <td>HATHRAS KOTWALI</td>\n      <td>NaN</td>\n      <td>अमभयोग का संबन्ध थाना हाथरस कोतवाली से होने के...</td>\n      <td>NaN</td>\n    </tr>\n    <tr>\n      <th>122</th>\n      <td>34</td>\n      <td>CHHARRA</td>\n      <td>0144/2015</td>\n      <td>ALIGARH</td>\n      <td>GANGIRI</td>\n      <td>NaN</td>\n      <td>घटनास्थल थाना गंगीरी से सम्बंमधत होने के कारण</td>\n      <td>NaN</td>\n    </tr>\n    <tr>\n      <th>124</th>\n      <td>35</td>\n      <td>ATRAULI</td>\n      <td>0628/2015</td>\n      <td>ALIGARH</td>\n      <td>CHHARRA</td>\n      <td>0041/2016</td>\n      <td>वािी और प्रमतवािी िोनों छराट के रहने वाले है।</td>\n      <td>NaN</td>\n    </tr>\n    <tr>\n      <th>126</th>\n      <td>36</td>\n      <td>BANNADEVI</td>\n      <td>0381/2015</td>\n      <td>ALIGARH</td>\n      <td>DELHI GATE</td>\n      <td>NaN</td>\n      <td>उच्चामधकारीगण के आिे शानुसार</td>\n      <td>NaN</td>\n    </tr>\n    <tr>\n      <th>...</th>\n      <td>...</td>\n      <td>...</td>\n      <td>...</td>\n      <td>...</td>\n      <td>...</td>\n      <td>...</td>\n      <td>...</td>\n      <td>...</td>\n    </tr>\n    <tr>\n      <th>1854</th>\n      <td>888</td>\n      <td>GOMTINAGAR</td>\n      <td>0047/2017</td>\n      <td>LUCKNOW</td>\n      <td>GUDAMBA</td>\n      <td>NaN</td>\n      <td>घटनास्थल सम्बन्न्धत</td>\n      <td>NaN</td>\n    </tr>\n    <tr>\n      <th>1856</th>\n      <td>889</td>\n      <td>GOMTINAGAR</td>\n      <td>0143/2017</td>\n      <td>LUCKNOW</td>\n      <td>CHINHAT</td>\n      <td>0200/2017</td>\n      <td>घटनास्थल सम्बन्न्धत थाना क्षेत्र</td>\n      <td>NaN</td>\n    </tr>\n    <tr>\n      <th>1858</th>\n      <td>890</td>\n      <td>GOMTINAGAR</td>\n      <td>7003/2017</td>\n      <td>LUCKNOW</td>\n      <td>VIBHUTI KHAND</td>\n      <td>0135/2017</td>\n      <td>घटनास्थल सम्बन्न्धत</td>\n      <td>NaN</td>\n    </tr>\n    <tr>\n      <th>1860</th>\n      <td>891</td>\n      <td>GOMTINAGAR</td>\n      <td>7004/2017</td>\n      <td>LUCKNOW</td>\n      <td>VIBHUTI KHAND</td>\n      <td>0191/2017</td>\n      <td>घटनास्थल सम्बन्न्धत थाना क्षेत्र</td>\n      <td>NaN</td>\n    </tr>\n    <tr>\n      <th>1862</th>\n      <td>892</td>\n      <td>GOMTINAGAR</td>\n      <td>7005/2017</td>\n      <td>LUCKNOW</td>\n      <td>VIBHUTI KHAND</td>\n      <td>0190/2017</td>\n      <td>घटनास्थल सम्बन्न्धत थाना क्षेत्र</td>\n      <td>NaN</td>\n    </tr>\n  </tbody>\n</table>\n<p>848 rows × 8 columns</p>\n</div>"
     },
     "execution_count": 40,
     "metadata": {},
     "output_type": "execute_result"
    }
   ],
   "source": [
    "fir_data"
   ],
   "metadata": {
    "collapsed": false,
    "ExecuteTime": {
     "end_time": "2023-09-02T13:38:59.790162200Z",
     "start_time": "2023-09-02T13:38:59.765104700Z"
    }
   }
  },
  {
   "cell_type": "code",
   "execution_count": 42,
   "outputs": [],
   "source": [
    "text_in_fir_no = fir_data['FIR No.'].str.isnumeric() == False\n",
    "\n",
    "# Create a temporary DataFrame to store the corrected data\n",
    "temp_df = fir_data.copy()\n",
    "\n",
    "# Swap values between 'Registered PS' and 'FIR No.' columns in those rows\n",
    "temp_df.loc[text_in_fir_no, 'Registered PS'] = fir_data.loc[text_in_fir_no, 'FIR No.']\n",
    "temp_df.loc[text_in_fir_no, 'FIR No.'] = fir_data.loc[text_in_fir_no, 'Registered PS']"
   ],
   "metadata": {
    "collapsed": false,
    "ExecuteTime": {
     "end_time": "2023-09-02T13:42:24.529840600Z",
     "start_time": "2023-09-02T13:42:24.523947100Z"
    }
   }
  },
  {
   "cell_type": "code",
   "execution_count": 43,
   "outputs": [
    {
     "data": {
      "text/plain": "     Sl No REGISTERED DISTRICT Registered PS     FIR No. TRANSFERRED DISTRICT  \\\n1        1               AGRA     7002/2017     KOTWALI                 ETAH    \n109     30           ETMADPUR       HATHRAS   0401/2015      HATHRAS KOTWALI    \n122     34            CHHARRA       ALIGARH   0144/2015              GANGIRI    \n124     35            ATRAULI       ALIGARH   0628/2015              CHHARRA    \n126     36          BANNADEVI       ALIGARH   0381/2015           DELHI GATE    \n...    ...                 ...           ...         ...                  ...   \n1854   888         GOMTINAGAR       LUCKNOW   0047/2017              GUDAMBA    \n1856   889         GOMTINAGAR       LUCKNOW   0143/2017              CHINHAT    \n1858   890         GOMTINAGAR       LUCKNOW   7003/2017        VIBHUTI KHAND    \n1860   891         GOMTINAGAR       LUCKNOW   7004/2017        VIBHUTI KHAND    \n1862   892         GOMTINAGAR       LUCKNOW   7005/2017        VIBHUTI KHAND    \n\n     Transferred PS                              Re registered FIR No.  \\\n1          JALESAR                                          7001/2017    \n109             NaN  अमभयोग का संबन्ध थाना हाथरस कोतवाली से होने के...   \n122             NaN     घटनास्थल थाना गंगीरी से सम्बंमधत होने के कारण    \n124      0041/2016      वािी और प्रमतवािी िोनों छराट के रहने वाले है।    \n126             NaN                      उच्चामधकारीगण के आिे शानुसार    \n...             ...                                                ...   \n1854            NaN                               घटनास्थल सम्बन्न्धत    \n1856     0200/2017                   घटनास्थल सम्बन्न्धत थाना क्षेत्र    \n1858     0135/2017                                घटनास्थल सम्बन्न्धत    \n1860     0191/2017                   घटनास्थल सम्बन्न्धत थाना क्षेत्र    \n1862     0190/2017                   घटनास्थल सम्बन्न्धत थाना क्षेत्र    \n\n                            Reason for transferring FIR  \n1     घटना स्थल थाना जलेसर एटा का होने के कारण प्राथ...  \n109                                                 NaN  \n122                                                 NaN  \n124                                                 NaN  \n126                                                 NaN  \n...                                                 ...  \n1854                                                NaN  \n1856                                                NaN  \n1858                                                NaN  \n1860                                                NaN  \n1862                                                NaN  \n\n[848 rows x 8 columns]",
      "text/html": "<div>\n<style scoped>\n    .dataframe tbody tr th:only-of-type {\n        vertical-align: middle;\n    }\n\n    .dataframe tbody tr th {\n        vertical-align: top;\n    }\n\n    .dataframe thead th {\n        text-align: right;\n    }\n</style>\n<table border=\"1\" class=\"dataframe\">\n  <thead>\n    <tr style=\"text-align: right;\">\n      <th></th>\n      <th>Sl No</th>\n      <th>REGISTERED DISTRICT</th>\n      <th>Registered PS</th>\n      <th>FIR No.</th>\n      <th>TRANSFERRED DISTRICT</th>\n      <th>Transferred PS</th>\n      <th>Re registered FIR No.</th>\n      <th>Reason for transferring FIR</th>\n    </tr>\n  </thead>\n  <tbody>\n    <tr>\n      <th>1</th>\n      <td>1</td>\n      <td>AGRA</td>\n      <td>7002/2017</td>\n      <td>KOTWALI</td>\n      <td>ETAH</td>\n      <td>JALESAR</td>\n      <td>7001/2017</td>\n      <td>घटना स्थल थाना जलेसर एटा का होने के कारण प्राथ...</td>\n    </tr>\n    <tr>\n      <th>109</th>\n      <td>30</td>\n      <td>ETMADPUR</td>\n      <td>HATHRAS</td>\n      <td>0401/2015</td>\n      <td>HATHRAS KOTWALI</td>\n      <td>NaN</td>\n      <td>अमभयोग का संबन्ध थाना हाथरस कोतवाली से होने के...</td>\n      <td>NaN</td>\n    </tr>\n    <tr>\n      <th>122</th>\n      <td>34</td>\n      <td>CHHARRA</td>\n      <td>ALIGARH</td>\n      <td>0144/2015</td>\n      <td>GANGIRI</td>\n      <td>NaN</td>\n      <td>घटनास्थल थाना गंगीरी से सम्बंमधत होने के कारण</td>\n      <td>NaN</td>\n    </tr>\n    <tr>\n      <th>124</th>\n      <td>35</td>\n      <td>ATRAULI</td>\n      <td>ALIGARH</td>\n      <td>0628/2015</td>\n      <td>CHHARRA</td>\n      <td>0041/2016</td>\n      <td>वािी और प्रमतवािी िोनों छराट के रहने वाले है।</td>\n      <td>NaN</td>\n    </tr>\n    <tr>\n      <th>126</th>\n      <td>36</td>\n      <td>BANNADEVI</td>\n      <td>ALIGARH</td>\n      <td>0381/2015</td>\n      <td>DELHI GATE</td>\n      <td>NaN</td>\n      <td>उच्चामधकारीगण के आिे शानुसार</td>\n      <td>NaN</td>\n    </tr>\n    <tr>\n      <th>...</th>\n      <td>...</td>\n      <td>...</td>\n      <td>...</td>\n      <td>...</td>\n      <td>...</td>\n      <td>...</td>\n      <td>...</td>\n      <td>...</td>\n    </tr>\n    <tr>\n      <th>1854</th>\n      <td>888</td>\n      <td>GOMTINAGAR</td>\n      <td>LUCKNOW</td>\n      <td>0047/2017</td>\n      <td>GUDAMBA</td>\n      <td>NaN</td>\n      <td>घटनास्थल सम्बन्न्धत</td>\n      <td>NaN</td>\n    </tr>\n    <tr>\n      <th>1856</th>\n      <td>889</td>\n      <td>GOMTINAGAR</td>\n      <td>LUCKNOW</td>\n      <td>0143/2017</td>\n      <td>CHINHAT</td>\n      <td>0200/2017</td>\n      <td>घटनास्थल सम्बन्न्धत थाना क्षेत्र</td>\n      <td>NaN</td>\n    </tr>\n    <tr>\n      <th>1858</th>\n      <td>890</td>\n      <td>GOMTINAGAR</td>\n      <td>LUCKNOW</td>\n      <td>7003/2017</td>\n      <td>VIBHUTI KHAND</td>\n      <td>0135/2017</td>\n      <td>घटनास्थल सम्बन्न्धत</td>\n      <td>NaN</td>\n    </tr>\n    <tr>\n      <th>1860</th>\n      <td>891</td>\n      <td>GOMTINAGAR</td>\n      <td>LUCKNOW</td>\n      <td>7004/2017</td>\n      <td>VIBHUTI KHAND</td>\n      <td>0191/2017</td>\n      <td>घटनास्थल सम्बन्न्धत थाना क्षेत्र</td>\n      <td>NaN</td>\n    </tr>\n    <tr>\n      <th>1862</th>\n      <td>892</td>\n      <td>GOMTINAGAR</td>\n      <td>LUCKNOW</td>\n      <td>7005/2017</td>\n      <td>VIBHUTI KHAND</td>\n      <td>0190/2017</td>\n      <td>घटनास्थल सम्बन्न्धत थाना क्षेत्र</td>\n      <td>NaN</td>\n    </tr>\n  </tbody>\n</table>\n<p>848 rows × 8 columns</p>\n</div>"
     },
     "execution_count": 43,
     "metadata": {},
     "output_type": "execute_result"
    }
   ],
   "source": [
    "temp_df"
   ],
   "metadata": {
    "collapsed": false,
    "ExecuteTime": {
     "end_time": "2023-09-02T13:42:28.560994500Z",
     "start_time": "2023-09-02T13:42:28.549787Z"
    }
   }
  },
  {
   "cell_type": "code",
   "execution_count": 44,
   "outputs": [
    {
     "name": "stdout",
     "output_type": "stream",
     "text": [
      "<class 'pandas.core.frame.DataFrame'>\n",
      "Index: 848 entries, 1 to 1862\n",
      "Data columns (total 8 columns):\n",
      " #   Column                       Non-Null Count  Dtype \n",
      "---  ------                       --------------  ----- \n",
      " 0   Sl No                        848 non-null    object\n",
      " 1   REGISTERED DISTRICT          848 non-null    object\n",
      " 2   Registered PS                848 non-null    object\n",
      " 3   FIR No.                      848 non-null    object\n",
      " 4   TRANSFERRED DISTRICT         848 non-null    object\n",
      " 5   Transferred PS               189 non-null    object\n",
      " 6   Re registered FIR No.        812 non-null    object\n",
      " 7   Reason for transferring FIR  45 non-null     object\n",
      "dtypes: object(8)\n",
      "memory usage: 59.6+ KB\n"
     ]
    }
   ],
   "source": [
    "temp_df.info()"
   ],
   "metadata": {
    "collapsed": false,
    "ExecuteTime": {
     "end_time": "2023-09-02T13:43:53.354514200Z",
     "start_time": "2023-09-02T13:43:53.327511800Z"
    }
   }
  },
  {
   "cell_type": "code",
   "execution_count": 47,
   "outputs": [],
   "source": [
    "text_in_fir_no = fir_data['FIR No.'].str.isnumeric()\n",
    "\n",
    "# Create a temporary DataFrame to store the corrected data\n",
    "temp_df = fir_data.copy()\n",
    "\n",
    "# Swap values only for rows where 'FIR No.' contains text\n",
    "temp_df.loc[text_in_fir_no, 'Registered PS'], temp_df.loc[text_in_fir_no, 'FIR No.'] = temp_df.loc[text_in_fir_no, 'FIR No.'], temp_df.loc[text_in_fir_no, 'Registered PS']\n",
    "\n",
    "# Check if the correction was successful"
   ],
   "metadata": {
    "collapsed": false,
    "ExecuteTime": {
     "end_time": "2023-09-02T13:47:57.602558600Z",
     "start_time": "2023-09-02T13:47:57.588925300Z"
    }
   }
  },
  {
   "cell_type": "code",
   "execution_count": 48,
   "outputs": [
    {
     "data": {
      "text/plain": "     Sl No REGISTERED DISTRICT Registered PS     FIR No. TRANSFERRED DISTRICT  \\\n1        1               AGRA       KOTWALI   7002/2017                 ETAH    \n109     30           ETMADPUR     0401/2015     HATHRAS      HATHRAS KOTWALI    \n122     34            CHHARRA     0144/2015     ALIGARH              GANGIRI    \n124     35            ATRAULI     0628/2015     ALIGARH              CHHARRA    \n126     36          BANNADEVI     0381/2015     ALIGARH           DELHI GATE    \n...    ...                 ...           ...         ...                  ...   \n1854   888         GOMTINAGAR     0047/2017     LUCKNOW              GUDAMBA    \n1856   889         GOMTINAGAR     0143/2017     LUCKNOW              CHINHAT    \n1858   890         GOMTINAGAR     7003/2017     LUCKNOW        VIBHUTI KHAND    \n1860   891         GOMTINAGAR     7004/2017     LUCKNOW        VIBHUTI KHAND    \n1862   892         GOMTINAGAR     7005/2017     LUCKNOW        VIBHUTI KHAND    \n\n     Transferred PS                              Re registered FIR No.  \\\n1          JALESAR                                          7001/2017    \n109             NaN  अमभयोग का संबन्ध थाना हाथरस कोतवाली से होने के...   \n122             NaN     घटनास्थल थाना गंगीरी से सम्बंमधत होने के कारण    \n124      0041/2016      वािी और प्रमतवािी िोनों छराट के रहने वाले है।    \n126             NaN                      उच्चामधकारीगण के आिे शानुसार    \n...             ...                                                ...   \n1854            NaN                               घटनास्थल सम्बन्न्धत    \n1856     0200/2017                   घटनास्थल सम्बन्न्धत थाना क्षेत्र    \n1858     0135/2017                                घटनास्थल सम्बन्न्धत    \n1860     0191/2017                   घटनास्थल सम्बन्न्धत थाना क्षेत्र    \n1862     0190/2017                   घटनास्थल सम्बन्न्धत थाना क्षेत्र    \n\n                            Reason for transferring FIR  \n1     घटना स्थल थाना जलेसर एटा का होने के कारण प्राथ...  \n109                                                 NaN  \n122                                                 NaN  \n124                                                 NaN  \n126                                                 NaN  \n...                                                 ...  \n1854                                                NaN  \n1856                                                NaN  \n1858                                                NaN  \n1860                                                NaN  \n1862                                                NaN  \n\n[848 rows x 8 columns]",
      "text/html": "<div>\n<style scoped>\n    .dataframe tbody tr th:only-of-type {\n        vertical-align: middle;\n    }\n\n    .dataframe tbody tr th {\n        vertical-align: top;\n    }\n\n    .dataframe thead th {\n        text-align: right;\n    }\n</style>\n<table border=\"1\" class=\"dataframe\">\n  <thead>\n    <tr style=\"text-align: right;\">\n      <th></th>\n      <th>Sl No</th>\n      <th>REGISTERED DISTRICT</th>\n      <th>Registered PS</th>\n      <th>FIR No.</th>\n      <th>TRANSFERRED DISTRICT</th>\n      <th>Transferred PS</th>\n      <th>Re registered FIR No.</th>\n      <th>Reason for transferring FIR</th>\n    </tr>\n  </thead>\n  <tbody>\n    <tr>\n      <th>1</th>\n      <td>1</td>\n      <td>AGRA</td>\n      <td>KOTWALI</td>\n      <td>7002/2017</td>\n      <td>ETAH</td>\n      <td>JALESAR</td>\n      <td>7001/2017</td>\n      <td>घटना स्थल थाना जलेसर एटा का होने के कारण प्राथ...</td>\n    </tr>\n    <tr>\n      <th>109</th>\n      <td>30</td>\n      <td>ETMADPUR</td>\n      <td>0401/2015</td>\n      <td>HATHRAS</td>\n      <td>HATHRAS KOTWALI</td>\n      <td>NaN</td>\n      <td>अमभयोग का संबन्ध थाना हाथरस कोतवाली से होने के...</td>\n      <td>NaN</td>\n    </tr>\n    <tr>\n      <th>122</th>\n      <td>34</td>\n      <td>CHHARRA</td>\n      <td>0144/2015</td>\n      <td>ALIGARH</td>\n      <td>GANGIRI</td>\n      <td>NaN</td>\n      <td>घटनास्थल थाना गंगीरी से सम्बंमधत होने के कारण</td>\n      <td>NaN</td>\n    </tr>\n    <tr>\n      <th>124</th>\n      <td>35</td>\n      <td>ATRAULI</td>\n      <td>0628/2015</td>\n      <td>ALIGARH</td>\n      <td>CHHARRA</td>\n      <td>0041/2016</td>\n      <td>वािी और प्रमतवािी िोनों छराट के रहने वाले है।</td>\n      <td>NaN</td>\n    </tr>\n    <tr>\n      <th>126</th>\n      <td>36</td>\n      <td>BANNADEVI</td>\n      <td>0381/2015</td>\n      <td>ALIGARH</td>\n      <td>DELHI GATE</td>\n      <td>NaN</td>\n      <td>उच्चामधकारीगण के आिे शानुसार</td>\n      <td>NaN</td>\n    </tr>\n    <tr>\n      <th>...</th>\n      <td>...</td>\n      <td>...</td>\n      <td>...</td>\n      <td>...</td>\n      <td>...</td>\n      <td>...</td>\n      <td>...</td>\n      <td>...</td>\n    </tr>\n    <tr>\n      <th>1854</th>\n      <td>888</td>\n      <td>GOMTINAGAR</td>\n      <td>0047/2017</td>\n      <td>LUCKNOW</td>\n      <td>GUDAMBA</td>\n      <td>NaN</td>\n      <td>घटनास्थल सम्बन्न्धत</td>\n      <td>NaN</td>\n    </tr>\n    <tr>\n      <th>1856</th>\n      <td>889</td>\n      <td>GOMTINAGAR</td>\n      <td>0143/2017</td>\n      <td>LUCKNOW</td>\n      <td>CHINHAT</td>\n      <td>0200/2017</td>\n      <td>घटनास्थल सम्बन्न्धत थाना क्षेत्र</td>\n      <td>NaN</td>\n    </tr>\n    <tr>\n      <th>1858</th>\n      <td>890</td>\n      <td>GOMTINAGAR</td>\n      <td>7003/2017</td>\n      <td>LUCKNOW</td>\n      <td>VIBHUTI KHAND</td>\n      <td>0135/2017</td>\n      <td>घटनास्थल सम्बन्न्धत</td>\n      <td>NaN</td>\n    </tr>\n    <tr>\n      <th>1860</th>\n      <td>891</td>\n      <td>GOMTINAGAR</td>\n      <td>7004/2017</td>\n      <td>LUCKNOW</td>\n      <td>VIBHUTI KHAND</td>\n      <td>0191/2017</td>\n      <td>घटनास्थल सम्बन्न्धत थाना क्षेत्र</td>\n      <td>NaN</td>\n    </tr>\n    <tr>\n      <th>1862</th>\n      <td>892</td>\n      <td>GOMTINAGAR</td>\n      <td>7005/2017</td>\n      <td>LUCKNOW</td>\n      <td>VIBHUTI KHAND</td>\n      <td>0190/2017</td>\n      <td>घटनास्थल सम्बन्न्धत थाना क्षेत्र</td>\n      <td>NaN</td>\n    </tr>\n  </tbody>\n</table>\n<p>848 rows × 8 columns</p>\n</div>"
     },
     "execution_count": 48,
     "metadata": {},
     "output_type": "execute_result"
    }
   ],
   "source": [
    "temp_df"
   ],
   "metadata": {
    "collapsed": false,
    "ExecuteTime": {
     "end_time": "2023-09-02T13:47:59.653027800Z",
     "start_time": "2023-09-02T13:47:59.636514400Z"
    }
   }
  },
  {
   "cell_type": "code",
   "execution_count": 49,
   "outputs": [],
   "source": [
    "# Create a function to check if a value can be converted to numeric\n",
    "def is_numeric(value):\n",
    "    try:\n",
    "        float(value)  # Try to convert the value to a float\n",
    "        return True\n",
    "    except ValueError:\n",
    "        return False\n",
    "\n",
    "# Use the function to create boolean masks for numeric and non-numeric values\n",
    "numeric_mask = fir_data['FIR No.'].apply(is_numeric)\n",
    "text_mask = ~numeric_mask\n",
    "\n",
    "# Create a temporary DataFrame to store the corrected data\n",
    "temp_df = fir_data.copy()\n",
    "\n",
    "# Swap values only for rows where 'FIR No.' contains text\n",
    "temp_df.loc[text_mask, 'Registered PS'], temp_df.loc[text_mask, 'FIR No.'] = temp_df.loc[text_mask, 'FIR No.'], temp_df.loc[text_mask, 'Registered PS']"
   ],
   "metadata": {
    "collapsed": false,
    "ExecuteTime": {
     "end_time": "2023-09-02T13:50:31.709854400Z",
     "start_time": "2023-09-02T13:50:31.705072200Z"
    }
   }
  },
  {
   "cell_type": "code",
   "execution_count": 50,
   "outputs": [
    {
     "data": {
      "text/plain": "     Sl No REGISTERED DISTRICT Registered PS     FIR No. TRANSFERRED DISTRICT  \\\n1        1               AGRA     7002/2017     KOTWALI                 ETAH    \n109     30           ETMADPUR       HATHRAS   0401/2015      HATHRAS KOTWALI    \n122     34            CHHARRA       ALIGARH   0144/2015              GANGIRI    \n124     35            ATRAULI       ALIGARH   0628/2015              CHHARRA    \n126     36          BANNADEVI       ALIGARH   0381/2015           DELHI GATE    \n...    ...                 ...           ...         ...                  ...   \n1854   888         GOMTINAGAR       LUCKNOW   0047/2017              GUDAMBA    \n1856   889         GOMTINAGAR       LUCKNOW   0143/2017              CHINHAT    \n1858   890         GOMTINAGAR       LUCKNOW   7003/2017        VIBHUTI KHAND    \n1860   891         GOMTINAGAR       LUCKNOW   7004/2017        VIBHUTI KHAND    \n1862   892         GOMTINAGAR       LUCKNOW   7005/2017        VIBHUTI KHAND    \n\n     Transferred PS                              Re registered FIR No.  \\\n1          JALESAR                                          7001/2017    \n109             NaN  अमभयोग का संबन्ध थाना हाथरस कोतवाली से होने के...   \n122             NaN     घटनास्थल थाना गंगीरी से सम्बंमधत होने के कारण    \n124      0041/2016      वािी और प्रमतवािी िोनों छराट के रहने वाले है।    \n126             NaN                      उच्चामधकारीगण के आिे शानुसार    \n...             ...                                                ...   \n1854            NaN                               घटनास्थल सम्बन्न्धत    \n1856     0200/2017                   घटनास्थल सम्बन्न्धत थाना क्षेत्र    \n1858     0135/2017                                घटनास्थल सम्बन्न्धत    \n1860     0191/2017                   घटनास्थल सम्बन्न्धत थाना क्षेत्र    \n1862     0190/2017                   घटनास्थल सम्बन्न्धत थाना क्षेत्र    \n\n                            Reason for transferring FIR  \n1     घटना स्थल थाना जलेसर एटा का होने के कारण प्राथ...  \n109                                                 NaN  \n122                                                 NaN  \n124                                                 NaN  \n126                                                 NaN  \n...                                                 ...  \n1854                                                NaN  \n1856                                                NaN  \n1858                                                NaN  \n1860                                                NaN  \n1862                                                NaN  \n\n[848 rows x 8 columns]",
      "text/html": "<div>\n<style scoped>\n    .dataframe tbody tr th:only-of-type {\n        vertical-align: middle;\n    }\n\n    .dataframe tbody tr th {\n        vertical-align: top;\n    }\n\n    .dataframe thead th {\n        text-align: right;\n    }\n</style>\n<table border=\"1\" class=\"dataframe\">\n  <thead>\n    <tr style=\"text-align: right;\">\n      <th></th>\n      <th>Sl No</th>\n      <th>REGISTERED DISTRICT</th>\n      <th>Registered PS</th>\n      <th>FIR No.</th>\n      <th>TRANSFERRED DISTRICT</th>\n      <th>Transferred PS</th>\n      <th>Re registered FIR No.</th>\n      <th>Reason for transferring FIR</th>\n    </tr>\n  </thead>\n  <tbody>\n    <tr>\n      <th>1</th>\n      <td>1</td>\n      <td>AGRA</td>\n      <td>7002/2017</td>\n      <td>KOTWALI</td>\n      <td>ETAH</td>\n      <td>JALESAR</td>\n      <td>7001/2017</td>\n      <td>घटना स्थल थाना जलेसर एटा का होने के कारण प्राथ...</td>\n    </tr>\n    <tr>\n      <th>109</th>\n      <td>30</td>\n      <td>ETMADPUR</td>\n      <td>HATHRAS</td>\n      <td>0401/2015</td>\n      <td>HATHRAS KOTWALI</td>\n      <td>NaN</td>\n      <td>अमभयोग का संबन्ध थाना हाथरस कोतवाली से होने के...</td>\n      <td>NaN</td>\n    </tr>\n    <tr>\n      <th>122</th>\n      <td>34</td>\n      <td>CHHARRA</td>\n      <td>ALIGARH</td>\n      <td>0144/2015</td>\n      <td>GANGIRI</td>\n      <td>NaN</td>\n      <td>घटनास्थल थाना गंगीरी से सम्बंमधत होने के कारण</td>\n      <td>NaN</td>\n    </tr>\n    <tr>\n      <th>124</th>\n      <td>35</td>\n      <td>ATRAULI</td>\n      <td>ALIGARH</td>\n      <td>0628/2015</td>\n      <td>CHHARRA</td>\n      <td>0041/2016</td>\n      <td>वािी और प्रमतवािी िोनों छराट के रहने वाले है।</td>\n      <td>NaN</td>\n    </tr>\n    <tr>\n      <th>126</th>\n      <td>36</td>\n      <td>BANNADEVI</td>\n      <td>ALIGARH</td>\n      <td>0381/2015</td>\n      <td>DELHI GATE</td>\n      <td>NaN</td>\n      <td>उच्चामधकारीगण के आिे शानुसार</td>\n      <td>NaN</td>\n    </tr>\n    <tr>\n      <th>...</th>\n      <td>...</td>\n      <td>...</td>\n      <td>...</td>\n      <td>...</td>\n      <td>...</td>\n      <td>...</td>\n      <td>...</td>\n      <td>...</td>\n    </tr>\n    <tr>\n      <th>1854</th>\n      <td>888</td>\n      <td>GOMTINAGAR</td>\n      <td>LUCKNOW</td>\n      <td>0047/2017</td>\n      <td>GUDAMBA</td>\n      <td>NaN</td>\n      <td>घटनास्थल सम्बन्न्धत</td>\n      <td>NaN</td>\n    </tr>\n    <tr>\n      <th>1856</th>\n      <td>889</td>\n      <td>GOMTINAGAR</td>\n      <td>LUCKNOW</td>\n      <td>0143/2017</td>\n      <td>CHINHAT</td>\n      <td>0200/2017</td>\n      <td>घटनास्थल सम्बन्न्धत थाना क्षेत्र</td>\n      <td>NaN</td>\n    </tr>\n    <tr>\n      <th>1858</th>\n      <td>890</td>\n      <td>GOMTINAGAR</td>\n      <td>LUCKNOW</td>\n      <td>7003/2017</td>\n      <td>VIBHUTI KHAND</td>\n      <td>0135/2017</td>\n      <td>घटनास्थल सम्बन्न्धत</td>\n      <td>NaN</td>\n    </tr>\n    <tr>\n      <th>1860</th>\n      <td>891</td>\n      <td>GOMTINAGAR</td>\n      <td>LUCKNOW</td>\n      <td>7004/2017</td>\n      <td>VIBHUTI KHAND</td>\n      <td>0191/2017</td>\n      <td>घटनास्थल सम्बन्न्धत थाना क्षेत्र</td>\n      <td>NaN</td>\n    </tr>\n    <tr>\n      <th>1862</th>\n      <td>892</td>\n      <td>GOMTINAGAR</td>\n      <td>LUCKNOW</td>\n      <td>7005/2017</td>\n      <td>VIBHUTI KHAND</td>\n      <td>0190/2017</td>\n      <td>घटनास्थल सम्बन्न्धत थाना क्षेत्र</td>\n      <td>NaN</td>\n    </tr>\n  </tbody>\n</table>\n<p>848 rows × 8 columns</p>\n</div>"
     },
     "execution_count": 50,
     "metadata": {},
     "output_type": "execute_result"
    }
   ],
   "source": [
    "temp_df"
   ],
   "metadata": {
    "collapsed": false,
    "ExecuteTime": {
     "end_time": "2023-09-02T13:50:34.581078Z",
     "start_time": "2023-09-02T13:50:34.576676900Z"
    }
   }
  },
  {
   "cell_type": "code",
   "execution_count": 51,
   "outputs": [],
   "source": [
    "non_numeric_mask = temp_df['Registered PS'].str.match(r'^\\D+$')\n",
    "\n",
    "# Use the mask to filter the DataFrame and keep only non-numeric values\n",
    "filtered_temp_df = temp_df[non_numeric_mask]"
   ],
   "metadata": {
    "collapsed": false,
    "ExecuteTime": {
     "end_time": "2023-09-02T13:52:14.708064900Z",
     "start_time": "2023-09-02T13:52:14.704063800Z"
    }
   }
  },
  {
   "cell_type": "code",
   "execution_count": 53,
   "outputs": [],
   "source": [
    "fir_data = filtered_temp_df"
   ],
   "metadata": {
    "collapsed": false,
    "ExecuteTime": {
     "end_time": "2023-09-02T13:53:25.296005900Z",
     "start_time": "2023-09-02T13:53:25.264664800Z"
    }
   }
  },
  {
   "cell_type": "code",
   "execution_count": 55,
   "outputs": [
    {
     "data": {
      "text/plain": "    Sl No REGISTERED DISTRICT Registered PS     FIR No. TRANSFERRED DISTRICT  \\\n109    30           ETMADPUR       HATHRAS   0401/2015      HATHRAS KOTWALI    \n122    34            CHHARRA       ALIGARH   0144/2015              GANGIRI    \n124    35            ATRAULI       ALIGARH   0628/2015              CHHARRA    \n126    36          BANNADEVI       ALIGARH   0381/2015           DELHI GATE    \n128    37          BANNADEVI       ALIGARH   0382/2015           DELHI GATE    \n\n    Transferred PS                              Re registered FIR No.  \\\n109            NaN  अमभयोग का संबन्ध थाना हाथरस कोतवाली से होने के...   \n122            NaN     घटनास्थल थाना गंगीरी से सम्बंमधत होने के कारण    \n124     0041/2016      वािी और प्रमतवािी िोनों छराट के रहने वाले है।    \n126            NaN                      उच्चामधकारीगण के आिे शानुसार    \n128            NaN              घटनास्थल थाना िेहलीगेट से सम्बन्न्धत    \n\n    Reason for transferring FIR  \n109                         NaN  \n122                         NaN  \n124                         NaN  \n126                         NaN  \n128                         NaN  ",
      "text/html": "<div>\n<style scoped>\n    .dataframe tbody tr th:only-of-type {\n        vertical-align: middle;\n    }\n\n    .dataframe tbody tr th {\n        vertical-align: top;\n    }\n\n    .dataframe thead th {\n        text-align: right;\n    }\n</style>\n<table border=\"1\" class=\"dataframe\">\n  <thead>\n    <tr style=\"text-align: right;\">\n      <th></th>\n      <th>Sl No</th>\n      <th>REGISTERED DISTRICT</th>\n      <th>Registered PS</th>\n      <th>FIR No.</th>\n      <th>TRANSFERRED DISTRICT</th>\n      <th>Transferred PS</th>\n      <th>Re registered FIR No.</th>\n      <th>Reason for transferring FIR</th>\n    </tr>\n  </thead>\n  <tbody>\n    <tr>\n      <th>109</th>\n      <td>30</td>\n      <td>ETMADPUR</td>\n      <td>HATHRAS</td>\n      <td>0401/2015</td>\n      <td>HATHRAS KOTWALI</td>\n      <td>NaN</td>\n      <td>अमभयोग का संबन्ध थाना हाथरस कोतवाली से होने के...</td>\n      <td>NaN</td>\n    </tr>\n    <tr>\n      <th>122</th>\n      <td>34</td>\n      <td>CHHARRA</td>\n      <td>ALIGARH</td>\n      <td>0144/2015</td>\n      <td>GANGIRI</td>\n      <td>NaN</td>\n      <td>घटनास्थल थाना गंगीरी से सम्बंमधत होने के कारण</td>\n      <td>NaN</td>\n    </tr>\n    <tr>\n      <th>124</th>\n      <td>35</td>\n      <td>ATRAULI</td>\n      <td>ALIGARH</td>\n      <td>0628/2015</td>\n      <td>CHHARRA</td>\n      <td>0041/2016</td>\n      <td>वािी और प्रमतवािी िोनों छराट के रहने वाले है।</td>\n      <td>NaN</td>\n    </tr>\n    <tr>\n      <th>126</th>\n      <td>36</td>\n      <td>BANNADEVI</td>\n      <td>ALIGARH</td>\n      <td>0381/2015</td>\n      <td>DELHI GATE</td>\n      <td>NaN</td>\n      <td>उच्चामधकारीगण के आिे शानुसार</td>\n      <td>NaN</td>\n    </tr>\n    <tr>\n      <th>128</th>\n      <td>37</td>\n      <td>BANNADEVI</td>\n      <td>ALIGARH</td>\n      <td>0382/2015</td>\n      <td>DELHI GATE</td>\n      <td>NaN</td>\n      <td>घटनास्थल थाना िेहलीगेट से सम्बन्न्धत</td>\n      <td>NaN</td>\n    </tr>\n  </tbody>\n</table>\n</div>"
     },
     "execution_count": 55,
     "metadata": {},
     "output_type": "execute_result"
    }
   ],
   "source": [
    "fir_data.head()"
   ],
   "metadata": {
    "collapsed": false,
    "ExecuteTime": {
     "end_time": "2023-09-02T13:53:35.814728600Z",
     "start_time": "2023-09-02T13:53:35.805152900Z"
    }
   }
  },
  {
   "cell_type": "code",
   "execution_count": 57,
   "outputs": [],
   "source": [
    "filter_data = fir_data[['REGISTERED DISTRICT', 'Registered PS']]"
   ],
   "metadata": {
    "collapsed": false,
    "ExecuteTime": {
     "end_time": "2023-09-02T13:57:45.629172900Z",
     "start_time": "2023-09-02T13:57:45.606264400Z"
    }
   }
  },
  {
   "cell_type": "code",
   "execution_count": 58,
   "outputs": [],
   "source": [
    "csv_path = 'registered_district_and_ps.csv'\n",
    "\n",
    "filter_data.to_csv(csv_path, index=False)"
   ],
   "metadata": {
    "collapsed": false,
    "ExecuteTime": {
     "end_time": "2023-09-02T13:58:17.904853500Z",
     "start_time": "2023-09-02T13:58:17.892192Z"
    }
   }
  },
  {
   "cell_type": "code",
   "execution_count": 59,
   "outputs": [
    {
     "data": {
      "text/plain": "     Sl No REGISTERED DISTRICT Registered PS     FIR No. TRANSFERRED DISTRICT  \\\n109     30           ETMADPUR       HATHRAS   0401/2015      HATHRAS KOTWALI    \n122     34            CHHARRA       ALIGARH   0144/2015              GANGIRI    \n124     35            ATRAULI       ALIGARH   0628/2015              CHHARRA    \n126     36          BANNADEVI       ALIGARH   0381/2015           DELHI GATE    \n128     37          BANNADEVI       ALIGARH   0382/2015           DELHI GATE    \n...    ...                 ...           ...         ...                  ...   \n1854   888         GOMTINAGAR       LUCKNOW   0047/2017              GUDAMBA    \n1856   889         GOMTINAGAR       LUCKNOW   0143/2017              CHINHAT    \n1858   890         GOMTINAGAR       LUCKNOW   7003/2017        VIBHUTI KHAND    \n1860   891         GOMTINAGAR       LUCKNOW   7004/2017        VIBHUTI KHAND    \n1862   892         GOMTINAGAR       LUCKNOW   7005/2017        VIBHUTI KHAND    \n\n     Transferred PS                              Re registered FIR No.  \\\n109             NaN  अमभयोग का संबन्ध थाना हाथरस कोतवाली से होने के...   \n122             NaN     घटनास्थल थाना गंगीरी से सम्बंमधत होने के कारण    \n124      0041/2016      वािी और प्रमतवािी िोनों छराट के रहने वाले है।    \n126             NaN                      उच्चामधकारीगण के आिे शानुसार    \n128             NaN              घटनास्थल थाना िेहलीगेट से सम्बन्न्धत    \n...             ...                                                ...   \n1854            NaN                               घटनास्थल सम्बन्न्धत    \n1856     0200/2017                   घटनास्थल सम्बन्न्धत थाना क्षेत्र    \n1858     0135/2017                                घटनास्थल सम्बन्न्धत    \n1860     0191/2017                   घटनास्थल सम्बन्न्धत थाना क्षेत्र    \n1862     0190/2017                   घटनास्थल सम्बन्न्धत थाना क्षेत्र    \n\n     Reason for transferring FIR  \n109                          NaN  \n122                          NaN  \n124                          NaN  \n126                          NaN  \n128                          NaN  \n...                          ...  \n1854                         NaN  \n1856                         NaN  \n1858                         NaN  \n1860                         NaN  \n1862                         NaN  \n\n[803 rows x 8 columns]",
      "text/html": "<div>\n<style scoped>\n    .dataframe tbody tr th:only-of-type {\n        vertical-align: middle;\n    }\n\n    .dataframe tbody tr th {\n        vertical-align: top;\n    }\n\n    .dataframe thead th {\n        text-align: right;\n    }\n</style>\n<table border=\"1\" class=\"dataframe\">\n  <thead>\n    <tr style=\"text-align: right;\">\n      <th></th>\n      <th>Sl No</th>\n      <th>REGISTERED DISTRICT</th>\n      <th>Registered PS</th>\n      <th>FIR No.</th>\n      <th>TRANSFERRED DISTRICT</th>\n      <th>Transferred PS</th>\n      <th>Re registered FIR No.</th>\n      <th>Reason for transferring FIR</th>\n    </tr>\n  </thead>\n  <tbody>\n    <tr>\n      <th>109</th>\n      <td>30</td>\n      <td>ETMADPUR</td>\n      <td>HATHRAS</td>\n      <td>0401/2015</td>\n      <td>HATHRAS KOTWALI</td>\n      <td>NaN</td>\n      <td>अमभयोग का संबन्ध थाना हाथरस कोतवाली से होने के...</td>\n      <td>NaN</td>\n    </tr>\n    <tr>\n      <th>122</th>\n      <td>34</td>\n      <td>CHHARRA</td>\n      <td>ALIGARH</td>\n      <td>0144/2015</td>\n      <td>GANGIRI</td>\n      <td>NaN</td>\n      <td>घटनास्थल थाना गंगीरी से सम्बंमधत होने के कारण</td>\n      <td>NaN</td>\n    </tr>\n    <tr>\n      <th>124</th>\n      <td>35</td>\n      <td>ATRAULI</td>\n      <td>ALIGARH</td>\n      <td>0628/2015</td>\n      <td>CHHARRA</td>\n      <td>0041/2016</td>\n      <td>वािी और प्रमतवािी िोनों छराट के रहने वाले है।</td>\n      <td>NaN</td>\n    </tr>\n    <tr>\n      <th>126</th>\n      <td>36</td>\n      <td>BANNADEVI</td>\n      <td>ALIGARH</td>\n      <td>0381/2015</td>\n      <td>DELHI GATE</td>\n      <td>NaN</td>\n      <td>उच्चामधकारीगण के आिे शानुसार</td>\n      <td>NaN</td>\n    </tr>\n    <tr>\n      <th>128</th>\n      <td>37</td>\n      <td>BANNADEVI</td>\n      <td>ALIGARH</td>\n      <td>0382/2015</td>\n      <td>DELHI GATE</td>\n      <td>NaN</td>\n      <td>घटनास्थल थाना िेहलीगेट से सम्बन्न्धत</td>\n      <td>NaN</td>\n    </tr>\n    <tr>\n      <th>...</th>\n      <td>...</td>\n      <td>...</td>\n      <td>...</td>\n      <td>...</td>\n      <td>...</td>\n      <td>...</td>\n      <td>...</td>\n      <td>...</td>\n    </tr>\n    <tr>\n      <th>1854</th>\n      <td>888</td>\n      <td>GOMTINAGAR</td>\n      <td>LUCKNOW</td>\n      <td>0047/2017</td>\n      <td>GUDAMBA</td>\n      <td>NaN</td>\n      <td>घटनास्थल सम्बन्न्धत</td>\n      <td>NaN</td>\n    </tr>\n    <tr>\n      <th>1856</th>\n      <td>889</td>\n      <td>GOMTINAGAR</td>\n      <td>LUCKNOW</td>\n      <td>0143/2017</td>\n      <td>CHINHAT</td>\n      <td>0200/2017</td>\n      <td>घटनास्थल सम्बन्न्धत थाना क्षेत्र</td>\n      <td>NaN</td>\n    </tr>\n    <tr>\n      <th>1858</th>\n      <td>890</td>\n      <td>GOMTINAGAR</td>\n      <td>LUCKNOW</td>\n      <td>7003/2017</td>\n      <td>VIBHUTI KHAND</td>\n      <td>0135/2017</td>\n      <td>घटनास्थल सम्बन्न्धत</td>\n      <td>NaN</td>\n    </tr>\n    <tr>\n      <th>1860</th>\n      <td>891</td>\n      <td>GOMTINAGAR</td>\n      <td>LUCKNOW</td>\n      <td>7004/2017</td>\n      <td>VIBHUTI KHAND</td>\n      <td>0191/2017</td>\n      <td>घटनास्थल सम्बन्न्धत थाना क्षेत्र</td>\n      <td>NaN</td>\n    </tr>\n    <tr>\n      <th>1862</th>\n      <td>892</td>\n      <td>GOMTINAGAR</td>\n      <td>LUCKNOW</td>\n      <td>7005/2017</td>\n      <td>VIBHUTI KHAND</td>\n      <td>0190/2017</td>\n      <td>घटनास्थल सम्बन्न्धत थाना क्षेत्र</td>\n      <td>NaN</td>\n    </tr>\n  </tbody>\n</table>\n<p>803 rows × 8 columns</p>\n</div>"
     },
     "execution_count": 59,
     "metadata": {},
     "output_type": "execute_result"
    }
   ],
   "source": [
    "fir_data"
   ],
   "metadata": {
    "collapsed": false,
    "ExecuteTime": {
     "end_time": "2023-09-02T15:03:53.980031300Z",
     "start_time": "2023-09-02T15:03:53.951234300Z"
    }
   }
  },
  {
   "cell_type": "code",
   "execution_count": 60,
   "outputs": [
    {
     "name": "stderr",
     "output_type": "stream",
     "text": [
      "C:\\Users\\AMANDEEP SINGH\\AppData\\Local\\Temp\\ipykernel_20236\\3872919843.py:1: SettingWithCopyWarning: \n",
      "A value is trying to be set on a copy of a slice from a DataFrame.\n",
      "Try using .loc[row_indexer,col_indexer] = value instead\n",
      "\n",
      "See the caveats in the documentation: https://pandas.pydata.org/pandas-docs/stable/user_guide/indexing.html#returning-a-view-versus-a-copy\n",
      "  fir_data['Location'] = fir_data['REGISTERED DISTRICT'] + ',' + fir_data['Registered PS']\n"
     ]
    }
   ],
   "source": [
    "fir_data['Location'] = fir_data['REGISTERED DISTRICT'] + ',' + fir_data['Registered PS']"
   ],
   "metadata": {
    "collapsed": false,
    "ExecuteTime": {
     "end_time": "2023-09-02T15:14:58.638686Z",
     "start_time": "2023-09-02T15:14:58.612602400Z"
    }
   }
  },
  {
   "cell_type": "code",
   "execution_count": 61,
   "outputs": [
    {
     "data": {
      "text/plain": "     Sl No REGISTERED DISTRICT Registered PS     FIR No. TRANSFERRED DISTRICT  \\\n109     30           ETMADPUR       HATHRAS   0401/2015      HATHRAS KOTWALI    \n122     34            CHHARRA       ALIGARH   0144/2015              GANGIRI    \n124     35            ATRAULI       ALIGARH   0628/2015              CHHARRA    \n126     36          BANNADEVI       ALIGARH   0381/2015           DELHI GATE    \n128     37          BANNADEVI       ALIGARH   0382/2015           DELHI GATE    \n...    ...                 ...           ...         ...                  ...   \n1854   888         GOMTINAGAR       LUCKNOW   0047/2017              GUDAMBA    \n1856   889         GOMTINAGAR       LUCKNOW   0143/2017              CHINHAT    \n1858   890         GOMTINAGAR       LUCKNOW   7003/2017        VIBHUTI KHAND    \n1860   891         GOMTINAGAR       LUCKNOW   7004/2017        VIBHUTI KHAND    \n1862   892         GOMTINAGAR       LUCKNOW   7005/2017        VIBHUTI KHAND    \n\n     Transferred PS                              Re registered FIR No.  \\\n109             NaN  अमभयोग का संबन्ध थाना हाथरस कोतवाली से होने के...   \n122             NaN     घटनास्थल थाना गंगीरी से सम्बंमधत होने के कारण    \n124      0041/2016      वािी और प्रमतवािी िोनों छराट के रहने वाले है।    \n126             NaN                      उच्चामधकारीगण के आिे शानुसार    \n128             NaN              घटनास्थल थाना िेहलीगेट से सम्बन्न्धत    \n...             ...                                                ...   \n1854            NaN                               घटनास्थल सम्बन्न्धत    \n1856     0200/2017                   घटनास्थल सम्बन्न्धत थाना क्षेत्र    \n1858     0135/2017                                घटनास्थल सम्बन्न्धत    \n1860     0191/2017                   घटनास्थल सम्बन्न्धत थाना क्षेत्र    \n1862     0190/2017                   घटनास्थल सम्बन्न्धत थाना क्षेत्र    \n\n     Reason for transferring FIR              Location  \n109                          NaN    ETMADPUR ,HATHRAS   \n122                          NaN     CHHARRA ,ALIGARH   \n124                          NaN     ATRAULI ,ALIGARH   \n126                          NaN   BANNADEVI ,ALIGARH   \n128                          NaN   BANNADEVI ,ALIGARH   \n...                          ...                   ...  \n1854                         NaN  GOMTINAGAR ,LUCKNOW   \n1856                         NaN  GOMTINAGAR ,LUCKNOW   \n1858                         NaN  GOMTINAGAR ,LUCKNOW   \n1860                         NaN  GOMTINAGAR ,LUCKNOW   \n1862                         NaN  GOMTINAGAR ,LUCKNOW   \n\n[803 rows x 9 columns]",
      "text/html": "<div>\n<style scoped>\n    .dataframe tbody tr th:only-of-type {\n        vertical-align: middle;\n    }\n\n    .dataframe tbody tr th {\n        vertical-align: top;\n    }\n\n    .dataframe thead th {\n        text-align: right;\n    }\n</style>\n<table border=\"1\" class=\"dataframe\">\n  <thead>\n    <tr style=\"text-align: right;\">\n      <th></th>\n      <th>Sl No</th>\n      <th>REGISTERED DISTRICT</th>\n      <th>Registered PS</th>\n      <th>FIR No.</th>\n      <th>TRANSFERRED DISTRICT</th>\n      <th>Transferred PS</th>\n      <th>Re registered FIR No.</th>\n      <th>Reason for transferring FIR</th>\n      <th>Location</th>\n    </tr>\n  </thead>\n  <tbody>\n    <tr>\n      <th>109</th>\n      <td>30</td>\n      <td>ETMADPUR</td>\n      <td>HATHRAS</td>\n      <td>0401/2015</td>\n      <td>HATHRAS KOTWALI</td>\n      <td>NaN</td>\n      <td>अमभयोग का संबन्ध थाना हाथरस कोतवाली से होने के...</td>\n      <td>NaN</td>\n      <td>ETMADPUR ,HATHRAS</td>\n    </tr>\n    <tr>\n      <th>122</th>\n      <td>34</td>\n      <td>CHHARRA</td>\n      <td>ALIGARH</td>\n      <td>0144/2015</td>\n      <td>GANGIRI</td>\n      <td>NaN</td>\n      <td>घटनास्थल थाना गंगीरी से सम्बंमधत होने के कारण</td>\n      <td>NaN</td>\n      <td>CHHARRA ,ALIGARH</td>\n    </tr>\n    <tr>\n      <th>124</th>\n      <td>35</td>\n      <td>ATRAULI</td>\n      <td>ALIGARH</td>\n      <td>0628/2015</td>\n      <td>CHHARRA</td>\n      <td>0041/2016</td>\n      <td>वािी और प्रमतवािी िोनों छराट के रहने वाले है।</td>\n      <td>NaN</td>\n      <td>ATRAULI ,ALIGARH</td>\n    </tr>\n    <tr>\n      <th>126</th>\n      <td>36</td>\n      <td>BANNADEVI</td>\n      <td>ALIGARH</td>\n      <td>0381/2015</td>\n      <td>DELHI GATE</td>\n      <td>NaN</td>\n      <td>उच्चामधकारीगण के आिे शानुसार</td>\n      <td>NaN</td>\n      <td>BANNADEVI ,ALIGARH</td>\n    </tr>\n    <tr>\n      <th>128</th>\n      <td>37</td>\n      <td>BANNADEVI</td>\n      <td>ALIGARH</td>\n      <td>0382/2015</td>\n      <td>DELHI GATE</td>\n      <td>NaN</td>\n      <td>घटनास्थल थाना िेहलीगेट से सम्बन्न्धत</td>\n      <td>NaN</td>\n      <td>BANNADEVI ,ALIGARH</td>\n    </tr>\n    <tr>\n      <th>...</th>\n      <td>...</td>\n      <td>...</td>\n      <td>...</td>\n      <td>...</td>\n      <td>...</td>\n      <td>...</td>\n      <td>...</td>\n      <td>...</td>\n      <td>...</td>\n    </tr>\n    <tr>\n      <th>1854</th>\n      <td>888</td>\n      <td>GOMTINAGAR</td>\n      <td>LUCKNOW</td>\n      <td>0047/2017</td>\n      <td>GUDAMBA</td>\n      <td>NaN</td>\n      <td>घटनास्थल सम्बन्न्धत</td>\n      <td>NaN</td>\n      <td>GOMTINAGAR ,LUCKNOW</td>\n    </tr>\n    <tr>\n      <th>1856</th>\n      <td>889</td>\n      <td>GOMTINAGAR</td>\n      <td>LUCKNOW</td>\n      <td>0143/2017</td>\n      <td>CHINHAT</td>\n      <td>0200/2017</td>\n      <td>घटनास्थल सम्बन्न्धत थाना क्षेत्र</td>\n      <td>NaN</td>\n      <td>GOMTINAGAR ,LUCKNOW</td>\n    </tr>\n    <tr>\n      <th>1858</th>\n      <td>890</td>\n      <td>GOMTINAGAR</td>\n      <td>LUCKNOW</td>\n      <td>7003/2017</td>\n      <td>VIBHUTI KHAND</td>\n      <td>0135/2017</td>\n      <td>घटनास्थल सम्बन्न्धत</td>\n      <td>NaN</td>\n      <td>GOMTINAGAR ,LUCKNOW</td>\n    </tr>\n    <tr>\n      <th>1860</th>\n      <td>891</td>\n      <td>GOMTINAGAR</td>\n      <td>LUCKNOW</td>\n      <td>7004/2017</td>\n      <td>VIBHUTI KHAND</td>\n      <td>0191/2017</td>\n      <td>घटनास्थल सम्बन्न्धत थाना क्षेत्र</td>\n      <td>NaN</td>\n      <td>GOMTINAGAR ,LUCKNOW</td>\n    </tr>\n    <tr>\n      <th>1862</th>\n      <td>892</td>\n      <td>GOMTINAGAR</td>\n      <td>LUCKNOW</td>\n      <td>7005/2017</td>\n      <td>VIBHUTI KHAND</td>\n      <td>0190/2017</td>\n      <td>घटनास्थल सम्बन्न्धत थाना क्षेत्र</td>\n      <td>NaN</td>\n      <td>GOMTINAGAR ,LUCKNOW</td>\n    </tr>\n  </tbody>\n</table>\n<p>803 rows × 9 columns</p>\n</div>"
     },
     "execution_count": 61,
     "metadata": {},
     "output_type": "execute_result"
    }
   ],
   "source": [
    "fir_data"
   ],
   "metadata": {
    "collapsed": false,
    "ExecuteTime": {
     "end_time": "2023-09-02T15:15:12.989475700Z",
     "start_time": "2023-09-02T15:15:12.984706700Z"
    }
   }
  },
  {
   "cell_type": "code",
   "execution_count": 62,
   "outputs": [],
   "source": [
    "csv_path = 'fir_data_only_UP.csv'\n",
    "\n",
    "fir_data.to_csv(csv_path, index=False)"
   ],
   "metadata": {
    "collapsed": false,
    "ExecuteTime": {
     "end_time": "2023-09-02T15:16:19.559491500Z",
     "start_time": "2023-09-02T15:16:19.545478900Z"
    }
   }
  },
  {
   "cell_type": "code",
   "execution_count": 64,
   "outputs": [
    {
     "data": {
      "text/plain": "Index(['Sl No', 'REGISTERED DISTRICT', 'Registered PS', 'FIR No.',\n       'TRANSFERRED DISTRICT', 'Transferred PS', 'Re registered FIR No.',\n       'Reason for transferring FIR', 'Location'],\n      dtype='object')"
     },
     "execution_count": 64,
     "metadata": {},
     "output_type": "execute_result"
    }
   ],
   "source": [
    "fir_data.columns"
   ],
   "metadata": {
    "collapsed": false,
    "ExecuteTime": {
     "end_time": "2023-09-02T16:53:40.671000900Z",
     "start_time": "2023-09-02T16:53:40.661647Z"
    }
   }
  },
  {
   "cell_type": "code",
   "execution_count": 65,
   "outputs": [],
   "source": [
    "df_cleaned_india = pd.read_csv('CLEANED_all_india_fir_data.csv')"
   ],
   "metadata": {
    "collapsed": false,
    "ExecuteTime": {
     "end_time": "2023-09-02T16:55:25.772220700Z",
     "start_time": "2023-09-02T16:55:25.738055100Z"
    }
   }
  },
  {
   "cell_type": "code",
   "execution_count": 66,
   "outputs": [
    {
     "data": {
      "text/plain": "Index(['FIR Number', 'Date and Time', 'Location', 'Latitude', 'Longitude',\n       'Accused Information', 'Accused email', 'criminal information',\n       'Incident Description', 'Crime Type'],\n      dtype='object')"
     },
     "execution_count": 66,
     "metadata": {},
     "output_type": "execute_result"
    }
   ],
   "source": [
    "df_cleaned_india.columns\n"
   ],
   "metadata": {
    "collapsed": false,
    "ExecuteTime": {
     "end_time": "2023-09-02T16:55:33.124077900Z",
     "start_time": "2023-09-02T16:55:33.122078800Z"
    }
   }
  },
  {
   "cell_type": "markdown",
   "source": [
    "### Converting date to Date time"
   ],
   "metadata": {
    "collapsed": false
   }
  },
  {
   "cell_type": "code",
   "execution_count": 69,
   "outputs": [],
   "source": [
    "df_cleaned_india['DateTime']=pd.to_datetime(df_cleaned_india['Date and Time'], format='%d-%m-%Y %H:%M')"
   ],
   "metadata": {
    "collapsed": false,
    "ExecuteTime": {
     "end_time": "2023-09-02T17:02:16.370986Z",
     "start_time": "2023-09-02T17:02:16.358521700Z"
    }
   }
  },
  {
   "cell_type": "code",
   "execution_count": 70,
   "outputs": [
    {
     "data": {
      "text/plain": "0     2023-10-22 09:30:00\n1     2023-10-22 14:15:00\n2     2023-10-23 17:45:00\n3     2023-10-23 08:20:00\n4     2023-10-24 19:00:00\n              ...        \n249   2024-06-28 07:40:00\n250   2024-06-29 17:15:00\n251   2024-06-30 10:15:00\n252   2024-07-01 19:20:00\n253   2024-07-02 08:45:00\nName: DateTime, Length: 254, dtype: datetime64[ns]"
     },
     "execution_count": 70,
     "metadata": {},
     "output_type": "execute_result"
    }
   ],
   "source": [
    "df_cleaned_india['DateTime']"
   ],
   "metadata": {
    "collapsed": false,
    "ExecuteTime": {
     "end_time": "2023-09-02T17:02:24.794731600Z",
     "start_time": "2023-09-02T17:02:24.779034Z"
    }
   }
  },
  {
   "cell_type": "code",
   "execution_count": 70,
   "outputs": [],
   "source": [],
   "metadata": {
    "collapsed": false,
    "ExecuteTime": {
     "end_time": "2023-09-02T17:43:29.686413400Z",
     "start_time": "2023-09-02T17:43:29.684218700Z"
    }
   }
  },
  {
   "cell_type": "code",
   "execution_count": 70,
   "outputs": [],
   "source": [],
   "metadata": {
    "collapsed": false,
    "ExecuteTime": {
     "end_time": "2023-09-02T17:43:29.814594200Z",
     "start_time": "2023-09-02T17:43:29.808641600Z"
    }
   }
  },
  {
   "cell_type": "code",
   "execution_count": 70,
   "outputs": [],
   "source": [],
   "metadata": {
    "collapsed": false,
    "ExecuteTime": {
     "end_time": "2023-09-02T17:43:29.956358100Z",
     "start_time": "2023-09-02T17:43:29.941604800Z"
    }
   }
  },
  {
   "cell_type": "code",
   "execution_count": 92,
   "outputs": [],
   "source": [
    "df_cleaned_UP = pd.read_csv('UP_FIR_DATASET.csv')"
   ],
   "metadata": {
    "collapsed": false,
    "ExecuteTime": {
     "end_time": "2023-09-02T18:38:44.333371900Z",
     "start_time": "2023-09-02T18:38:44.297652Z"
    }
   }
  },
  {
   "cell_type": "code",
   "execution_count": 84,
   "outputs": [
    {
     "data": {
      "text/plain": "Index(['Sl No', 'REGISTERED DISTRICT', 'Registered PS', 'FIR No.',\n       'TRANSFERRED DISTRICT', 'Transferred PS', 'Re registered FIR No.',\n       'Reason for transferring FIR', 'Location', 'Latitude', 'Longitude'],\n      dtype='object')"
     },
     "execution_count": 84,
     "metadata": {},
     "output_type": "execute_result"
    }
   ],
   "source": [
    "df_cleaned_UP.columns"
   ],
   "metadata": {
    "collapsed": false,
    "ExecuteTime": {
     "end_time": "2023-09-02T18:26:05.766712400Z",
     "start_time": "2023-09-02T18:26:05.757381200Z"
    }
   }
  },
  {
   "cell_type": "code",
   "execution_count": 85,
   "outputs": [],
   "source": [
    "df_cleaned_UP.dropna(inplace=True)\n"
   ],
   "metadata": {
    "collapsed": false,
    "ExecuteTime": {
     "end_time": "2023-09-02T18:26:07.280588800Z",
     "start_time": "2023-09-02T18:26:07.262226800Z"
    }
   }
  },
  {
   "cell_type": "code",
   "execution_count": 86,
   "outputs": [
    {
     "data": {
      "text/plain": "Sl No                          0\nREGISTERED DISTRICT            0\nRegistered PS                  0\nFIR No.                        0\nTRANSFERRED DISTRICT           0\nTransferred PS                 0\nRe registered FIR No.          0\nReason for transferring FIR    0\nLocation                       0\nLatitude                       0\nLongitude                      0\ndtype: int64"
     },
     "execution_count": 86,
     "metadata": {},
     "output_type": "execute_result"
    }
   ],
   "source": [
    "df_cleaned_UP.isnull().sum()"
   ],
   "metadata": {
    "collapsed": false,
    "ExecuteTime": {
     "end_time": "2023-09-02T18:26:07.802866400Z",
     "start_time": "2023-09-02T18:26:07.775843800Z"
    }
   }
  },
  {
   "cell_type": "code",
   "execution_count": 93,
   "outputs": [],
   "source": [
    "min_latitude = df_cleaned_UP['Latitude'].min()\n",
    "max_latitude = df_cleaned_UP['Latitude'].max()\n",
    "min_longitude = df_cleaned_UP['Longitude'].min()\n",
    "max_longitude = df_cleaned_UP['Longitude'].max()\n"
   ],
   "metadata": {
    "collapsed": false,
    "ExecuteTime": {
     "end_time": "2023-09-02T18:39:08.247384200Z",
     "start_time": "2023-09-02T18:39:08.240374300Z"
    }
   }
  },
  {
   "cell_type": "code",
   "execution_count": 94,
   "outputs": [
    {
     "name": "stdout",
     "output_type": "stream",
     "text": [
      "23.9905079 31.6861745\n",
      "76.5213092 90.3877184\n"
     ]
    }
   ],
   "source": [
    "print(min_latitude, max_latitude)\n",
    "print(min_longitude, max_longitude)"
   ],
   "metadata": {
    "collapsed": false,
    "ExecuteTime": {
     "end_time": "2023-09-02T18:39:39.312986800Z",
     "start_time": "2023-09-02T18:39:39.301364900Z"
    }
   }
  },
  {
   "cell_type": "code",
   "execution_count": 95,
   "outputs": [
    {
     "name": "stdout",
     "output_type": "stream",
     "text": [
      "<class 'pandas.core.frame.DataFrame'>\n",
      "RangeIndex: 742 entries, 0 to 741\n",
      "Data columns (total 11 columns):\n",
      " #   Column                       Non-Null Count  Dtype  \n",
      "---  ------                       --------------  -----  \n",
      " 0   Sl No                        742 non-null    int64  \n",
      " 1   REGISTERED DISTRICT          742 non-null    object \n",
      " 2   Registered PS                742 non-null    object \n",
      " 3   FIR No.                      742 non-null    object \n",
      " 4   TRANSFERRED DISTRICT         742 non-null    object \n",
      " 5   Transferred PS               127 non-null    object \n",
      " 6   Re registered FIR No.        742 non-null    object \n",
      " 7   Reason for transferring FIR  0 non-null      float64\n",
      " 8   Location                     742 non-null    object \n",
      " 9   Latitude                     742 non-null    float64\n",
      " 10  Longitude                    742 non-null    float64\n",
      "dtypes: float64(3), int64(1), object(7)\n",
      "memory usage: 63.9+ KB\n"
     ]
    }
   ],
   "source": [
    "df_cleaned_UP.info()"
   ],
   "metadata": {
    "collapsed": false,
    "ExecuteTime": {
     "end_time": "2023-09-02T18:55:30.404380400Z",
     "start_time": "2023-09-02T18:55:30.295700500Z"
    }
   }
  },
  {
   "cell_type": "code",
   "execution_count": 96,
   "outputs": [
    {
     "ename": "TypeError",
     "evalue": "string indices must be integers, not 'str'",
     "output_type": "error",
     "traceback": [
      "\u001B[1;31m---------------------------------------------------------------------------\u001B[0m",
      "\u001B[1;31mTypeError\u001B[0m                                 Traceback (most recent call last)",
      "Cell \u001B[1;32mIn[96], line 2\u001B[0m\n\u001B[0;32m      1\u001B[0m \u001B[38;5;28;01mfor\u001B[39;00m crime \u001B[38;5;129;01min\u001B[39;00m df_cleaned_UP:\n\u001B[1;32m----> 2\u001B[0m         location \u001B[38;5;241m=\u001B[39m \u001B[43mcrime\u001B[49m\u001B[43m[\u001B[49m\u001B[38;5;124;43m'\u001B[39;49m\u001B[38;5;124;43mLatitude\u001B[39;49m\u001B[38;5;124;43m'\u001B[39;49m\u001B[43m]\u001B[49m, crime[\u001B[38;5;124m'\u001B[39m\u001B[38;5;124mLongitude\u001B[39m\u001B[38;5;124m'\u001B[39m]\n\u001B[0;32m      3\u001B[0m         \u001B[38;5;28mprint\u001B[39m(location)\n",
      "\u001B[1;31mTypeError\u001B[0m: string indices must be integers, not 'str'"
     ]
    }
   ],
   "source": [
    "for crime in df_cleaned_UP:\n",
    "        location = crime['Latitude'], crime['Longitude']\n",
    "        print(location)"
   ],
   "metadata": {
    "collapsed": false,
    "ExecuteTime": {
     "end_time": "2023-09-02T19:02:57.462203100Z",
     "start_time": "2023-09-02T19:02:57.382179300Z"
    }
   }
  },
  {
   "cell_type": "code",
   "execution_count": 98,
   "outputs": [
    {
     "name": "stdout",
     "output_type": "stream",
     "text": [
      "<class 'tuple'>\n",
      "<class 'tuple'>\n",
      "<class 'tuple'>\n",
      "<class 'tuple'>\n",
      "<class 'tuple'>\n",
      "<class 'tuple'>\n",
      "<class 'tuple'>\n",
      "<class 'tuple'>\n",
      "<class 'tuple'>\n",
      "<class 'tuple'>\n",
      "<class 'tuple'>\n",
      "<class 'tuple'>\n",
      "<class 'tuple'>\n",
      "<class 'tuple'>\n",
      "<class 'tuple'>\n",
      "<class 'tuple'>\n",
      "<class 'tuple'>\n",
      "<class 'tuple'>\n",
      "<class 'tuple'>\n",
      "<class 'tuple'>\n",
      "<class 'tuple'>\n",
      "<class 'tuple'>\n",
      "<class 'tuple'>\n",
      "<class 'tuple'>\n",
      "<class 'tuple'>\n",
      "<class 'tuple'>\n",
      "<class 'tuple'>\n",
      "<class 'tuple'>\n",
      "<class 'tuple'>\n",
      "<class 'tuple'>\n",
      "<class 'tuple'>\n",
      "<class 'tuple'>\n",
      "<class 'tuple'>\n",
      "<class 'tuple'>\n",
      "<class 'tuple'>\n",
      "<class 'tuple'>\n",
      "<class 'tuple'>\n",
      "<class 'tuple'>\n",
      "<class 'tuple'>\n",
      "<class 'tuple'>\n",
      "<class 'tuple'>\n",
      "<class 'tuple'>\n",
      "<class 'tuple'>\n",
      "<class 'tuple'>\n",
      "<class 'tuple'>\n",
      "<class 'tuple'>\n",
      "<class 'tuple'>\n",
      "<class 'tuple'>\n",
      "<class 'tuple'>\n",
      "<class 'tuple'>\n",
      "<class 'tuple'>\n",
      "<class 'tuple'>\n",
      "<class 'tuple'>\n",
      "<class 'tuple'>\n",
      "<class 'tuple'>\n",
      "<class 'tuple'>\n",
      "<class 'tuple'>\n",
      "<class 'tuple'>\n",
      "<class 'tuple'>\n",
      "<class 'tuple'>\n",
      "<class 'tuple'>\n",
      "<class 'tuple'>\n",
      "<class 'tuple'>\n",
      "<class 'tuple'>\n",
      "<class 'tuple'>\n",
      "<class 'tuple'>\n",
      "<class 'tuple'>\n",
      "<class 'tuple'>\n",
      "<class 'tuple'>\n",
      "<class 'tuple'>\n",
      "<class 'tuple'>\n",
      "<class 'tuple'>\n",
      "<class 'tuple'>\n",
      "<class 'tuple'>\n",
      "<class 'tuple'>\n",
      "<class 'tuple'>\n",
      "<class 'tuple'>\n",
      "<class 'tuple'>\n",
      "<class 'tuple'>\n",
      "<class 'tuple'>\n",
      "<class 'tuple'>\n",
      "<class 'tuple'>\n",
      "<class 'tuple'>\n",
      "<class 'tuple'>\n",
      "<class 'tuple'>\n",
      "<class 'tuple'>\n",
      "<class 'tuple'>\n",
      "<class 'tuple'>\n",
      "<class 'tuple'>\n",
      "<class 'tuple'>\n",
      "<class 'tuple'>\n",
      "<class 'tuple'>\n",
      "<class 'tuple'>\n",
      "<class 'tuple'>\n",
      "<class 'tuple'>\n",
      "<class 'tuple'>\n",
      "<class 'tuple'>\n",
      "<class 'tuple'>\n",
      "<class 'tuple'>\n",
      "<class 'tuple'>\n",
      "<class 'tuple'>\n",
      "<class 'tuple'>\n",
      "<class 'tuple'>\n",
      "<class 'tuple'>\n",
      "<class 'tuple'>\n",
      "<class 'tuple'>\n",
      "<class 'tuple'>\n",
      "<class 'tuple'>\n",
      "<class 'tuple'>\n",
      "<class 'tuple'>\n",
      "<class 'tuple'>\n",
      "<class 'tuple'>\n",
      "<class 'tuple'>\n",
      "<class 'tuple'>\n",
      "<class 'tuple'>\n",
      "<class 'tuple'>\n",
      "<class 'tuple'>\n",
      "<class 'tuple'>\n",
      "<class 'tuple'>\n",
      "<class 'tuple'>\n",
      "<class 'tuple'>\n",
      "<class 'tuple'>\n",
      "<class 'tuple'>\n",
      "<class 'tuple'>\n",
      "<class 'tuple'>\n",
      "<class 'tuple'>\n",
      "<class 'tuple'>\n",
      "<class 'tuple'>\n",
      "<class 'tuple'>\n",
      "<class 'tuple'>\n",
      "<class 'tuple'>\n",
      "<class 'tuple'>\n",
      "<class 'tuple'>\n",
      "<class 'tuple'>\n",
      "<class 'tuple'>\n",
      "<class 'tuple'>\n",
      "<class 'tuple'>\n",
      "<class 'tuple'>\n",
      "<class 'tuple'>\n",
      "<class 'tuple'>\n",
      "<class 'tuple'>\n",
      "<class 'tuple'>\n",
      "<class 'tuple'>\n",
      "<class 'tuple'>\n",
      "<class 'tuple'>\n",
      "<class 'tuple'>\n",
      "<class 'tuple'>\n",
      "<class 'tuple'>\n",
      "<class 'tuple'>\n",
      "<class 'tuple'>\n",
      "<class 'tuple'>\n",
      "<class 'tuple'>\n",
      "<class 'tuple'>\n",
      "<class 'tuple'>\n",
      "<class 'tuple'>\n",
      "<class 'tuple'>\n",
      "<class 'tuple'>\n",
      "<class 'tuple'>\n",
      "<class 'tuple'>\n",
      "<class 'tuple'>\n",
      "<class 'tuple'>\n",
      "<class 'tuple'>\n",
      "<class 'tuple'>\n",
      "<class 'tuple'>\n",
      "<class 'tuple'>\n",
      "<class 'tuple'>\n",
      "<class 'tuple'>\n",
      "<class 'tuple'>\n",
      "<class 'tuple'>\n",
      "<class 'tuple'>\n",
      "<class 'tuple'>\n",
      "<class 'tuple'>\n",
      "<class 'tuple'>\n",
      "<class 'tuple'>\n",
      "<class 'tuple'>\n",
      "<class 'tuple'>\n",
      "<class 'tuple'>\n",
      "<class 'tuple'>\n",
      "<class 'tuple'>\n",
      "<class 'tuple'>\n",
      "<class 'tuple'>\n",
      "<class 'tuple'>\n",
      "<class 'tuple'>\n",
      "<class 'tuple'>\n",
      "<class 'tuple'>\n",
      "<class 'tuple'>\n",
      "<class 'tuple'>\n",
      "<class 'tuple'>\n",
      "<class 'tuple'>\n",
      "<class 'tuple'>\n",
      "<class 'tuple'>\n",
      "<class 'tuple'>\n",
      "<class 'tuple'>\n",
      "<class 'tuple'>\n",
      "<class 'tuple'>\n",
      "<class 'tuple'>\n",
      "<class 'tuple'>\n",
      "<class 'tuple'>\n",
      "<class 'tuple'>\n",
      "<class 'tuple'>\n",
      "<class 'tuple'>\n",
      "<class 'tuple'>\n",
      "<class 'tuple'>\n",
      "<class 'tuple'>\n",
      "<class 'tuple'>\n",
      "<class 'tuple'>\n",
      "<class 'tuple'>\n",
      "<class 'tuple'>\n",
      "<class 'tuple'>\n",
      "<class 'tuple'>\n",
      "<class 'tuple'>\n",
      "<class 'tuple'>\n",
      "<class 'tuple'>\n",
      "<class 'tuple'>\n",
      "<class 'tuple'>\n",
      "<class 'tuple'>\n",
      "<class 'tuple'>\n",
      "<class 'tuple'>\n",
      "<class 'tuple'>\n",
      "<class 'tuple'>\n",
      "<class 'tuple'>\n",
      "<class 'tuple'>\n",
      "<class 'tuple'>\n",
      "<class 'tuple'>\n",
      "<class 'tuple'>\n",
      "<class 'tuple'>\n",
      "<class 'tuple'>\n",
      "<class 'tuple'>\n",
      "<class 'tuple'>\n",
      "<class 'tuple'>\n",
      "<class 'tuple'>\n",
      "<class 'tuple'>\n",
      "<class 'tuple'>\n",
      "<class 'tuple'>\n",
      "<class 'tuple'>\n",
      "<class 'tuple'>\n",
      "<class 'tuple'>\n",
      "<class 'tuple'>\n",
      "<class 'tuple'>\n",
      "<class 'tuple'>\n",
      "<class 'tuple'>\n",
      "<class 'tuple'>\n",
      "<class 'tuple'>\n",
      "<class 'tuple'>\n",
      "<class 'tuple'>\n",
      "<class 'tuple'>\n",
      "<class 'tuple'>\n",
      "<class 'tuple'>\n",
      "<class 'tuple'>\n",
      "<class 'tuple'>\n",
      "<class 'tuple'>\n",
      "<class 'tuple'>\n",
      "<class 'tuple'>\n",
      "<class 'tuple'>\n",
      "<class 'tuple'>\n",
      "<class 'tuple'>\n",
      "<class 'tuple'>\n",
      "<class 'tuple'>\n",
      "<class 'tuple'>\n",
      "<class 'tuple'>\n",
      "<class 'tuple'>\n",
      "<class 'tuple'>\n",
      "<class 'tuple'>\n",
      "<class 'tuple'>\n",
      "<class 'tuple'>\n",
      "<class 'tuple'>\n",
      "<class 'tuple'>\n",
      "<class 'tuple'>\n",
      "<class 'tuple'>\n",
      "<class 'tuple'>\n",
      "<class 'tuple'>\n",
      "<class 'tuple'>\n",
      "<class 'tuple'>\n",
      "<class 'tuple'>\n",
      "<class 'tuple'>\n",
      "<class 'tuple'>\n",
      "<class 'tuple'>\n",
      "<class 'tuple'>\n",
      "<class 'tuple'>\n",
      "<class 'tuple'>\n",
      "<class 'tuple'>\n",
      "<class 'tuple'>\n",
      "<class 'tuple'>\n",
      "<class 'tuple'>\n",
      "<class 'tuple'>\n",
      "<class 'tuple'>\n",
      "<class 'tuple'>\n",
      "<class 'tuple'>\n",
      "<class 'tuple'>\n",
      "<class 'tuple'>\n",
      "<class 'tuple'>\n",
      "<class 'tuple'>\n",
      "<class 'tuple'>\n",
      "<class 'tuple'>\n",
      "<class 'tuple'>\n",
      "<class 'tuple'>\n",
      "<class 'tuple'>\n",
      "<class 'tuple'>\n",
      "<class 'tuple'>\n",
      "<class 'tuple'>\n",
      "<class 'tuple'>\n",
      "<class 'tuple'>\n",
      "<class 'tuple'>\n",
      "<class 'tuple'>\n",
      "<class 'tuple'>\n",
      "<class 'tuple'>\n",
      "<class 'tuple'>\n",
      "<class 'tuple'>\n",
      "<class 'tuple'>\n",
      "<class 'tuple'>\n",
      "<class 'tuple'>\n",
      "<class 'tuple'>\n",
      "<class 'tuple'>\n",
      "<class 'tuple'>\n",
      "<class 'tuple'>\n",
      "<class 'tuple'>\n",
      "<class 'tuple'>\n",
      "<class 'tuple'>\n",
      "<class 'tuple'>\n",
      "<class 'tuple'>\n",
      "<class 'tuple'>\n",
      "<class 'tuple'>\n",
      "<class 'tuple'>\n",
      "<class 'tuple'>\n",
      "<class 'tuple'>\n",
      "<class 'tuple'>\n",
      "<class 'tuple'>\n",
      "<class 'tuple'>\n",
      "<class 'tuple'>\n",
      "<class 'tuple'>\n",
      "<class 'tuple'>\n",
      "<class 'tuple'>\n",
      "<class 'tuple'>\n",
      "<class 'tuple'>\n",
      "<class 'tuple'>\n",
      "<class 'tuple'>\n",
      "<class 'tuple'>\n",
      "<class 'tuple'>\n",
      "<class 'tuple'>\n",
      "<class 'tuple'>\n",
      "<class 'tuple'>\n",
      "<class 'tuple'>\n",
      "<class 'tuple'>\n",
      "<class 'tuple'>\n",
      "<class 'tuple'>\n",
      "<class 'tuple'>\n",
      "<class 'tuple'>\n",
      "<class 'tuple'>\n",
      "<class 'tuple'>\n",
      "<class 'tuple'>\n",
      "<class 'tuple'>\n",
      "<class 'tuple'>\n",
      "<class 'tuple'>\n",
      "<class 'tuple'>\n",
      "<class 'tuple'>\n",
      "<class 'tuple'>\n",
      "<class 'tuple'>\n",
      "<class 'tuple'>\n",
      "<class 'tuple'>\n",
      "<class 'tuple'>\n",
      "<class 'tuple'>\n",
      "<class 'tuple'>\n",
      "<class 'tuple'>\n",
      "<class 'tuple'>\n",
      "<class 'tuple'>\n",
      "<class 'tuple'>\n",
      "<class 'tuple'>\n",
      "<class 'tuple'>\n",
      "<class 'tuple'>\n",
      "<class 'tuple'>\n",
      "<class 'tuple'>\n",
      "<class 'tuple'>\n",
      "<class 'tuple'>\n",
      "<class 'tuple'>\n",
      "<class 'tuple'>\n",
      "<class 'tuple'>\n",
      "<class 'tuple'>\n",
      "<class 'tuple'>\n",
      "<class 'tuple'>\n",
      "<class 'tuple'>\n",
      "<class 'tuple'>\n",
      "<class 'tuple'>\n",
      "<class 'tuple'>\n",
      "<class 'tuple'>\n",
      "<class 'tuple'>\n",
      "<class 'tuple'>\n",
      "<class 'tuple'>\n",
      "<class 'tuple'>\n",
      "<class 'tuple'>\n",
      "<class 'tuple'>\n",
      "<class 'tuple'>\n",
      "<class 'tuple'>\n",
      "<class 'tuple'>\n",
      "<class 'tuple'>\n",
      "<class 'tuple'>\n",
      "<class 'tuple'>\n",
      "<class 'tuple'>\n",
      "<class 'tuple'>\n",
      "<class 'tuple'>\n",
      "<class 'tuple'>\n",
      "<class 'tuple'>\n",
      "<class 'tuple'>\n",
      "<class 'tuple'>\n",
      "<class 'tuple'>\n",
      "<class 'tuple'>\n",
      "<class 'tuple'>\n",
      "<class 'tuple'>\n",
      "<class 'tuple'>\n",
      "<class 'tuple'>\n",
      "<class 'tuple'>\n",
      "<class 'tuple'>\n",
      "<class 'tuple'>\n",
      "<class 'tuple'>\n",
      "<class 'tuple'>\n",
      "<class 'tuple'>\n",
      "<class 'tuple'>\n",
      "<class 'tuple'>\n",
      "<class 'tuple'>\n",
      "<class 'tuple'>\n",
      "<class 'tuple'>\n",
      "<class 'tuple'>\n",
      "<class 'tuple'>\n",
      "<class 'tuple'>\n",
      "<class 'tuple'>\n",
      "<class 'tuple'>\n",
      "<class 'tuple'>\n",
      "<class 'tuple'>\n",
      "<class 'tuple'>\n",
      "<class 'tuple'>\n",
      "<class 'tuple'>\n",
      "<class 'tuple'>\n",
      "<class 'tuple'>\n",
      "<class 'tuple'>\n",
      "<class 'tuple'>\n",
      "<class 'tuple'>\n",
      "<class 'tuple'>\n",
      "<class 'tuple'>\n",
      "<class 'tuple'>\n",
      "<class 'tuple'>\n",
      "<class 'tuple'>\n",
      "<class 'tuple'>\n",
      "<class 'tuple'>\n",
      "<class 'tuple'>\n",
      "<class 'tuple'>\n",
      "<class 'tuple'>\n",
      "<class 'tuple'>\n",
      "<class 'tuple'>\n",
      "<class 'tuple'>\n",
      "<class 'tuple'>\n",
      "<class 'tuple'>\n",
      "<class 'tuple'>\n",
      "<class 'tuple'>\n",
      "<class 'tuple'>\n",
      "<class 'tuple'>\n",
      "<class 'tuple'>\n",
      "<class 'tuple'>\n",
      "<class 'tuple'>\n",
      "<class 'tuple'>\n",
      "<class 'tuple'>\n",
      "<class 'tuple'>\n",
      "<class 'tuple'>\n",
      "<class 'tuple'>\n",
      "<class 'tuple'>\n",
      "<class 'tuple'>\n",
      "<class 'tuple'>\n",
      "<class 'tuple'>\n",
      "<class 'tuple'>\n",
      "<class 'tuple'>\n",
      "<class 'tuple'>\n",
      "<class 'tuple'>\n",
      "<class 'tuple'>\n",
      "<class 'tuple'>\n",
      "<class 'tuple'>\n",
      "<class 'tuple'>\n",
      "<class 'tuple'>\n",
      "<class 'tuple'>\n",
      "<class 'tuple'>\n",
      "<class 'tuple'>\n",
      "<class 'tuple'>\n",
      "<class 'tuple'>\n",
      "<class 'tuple'>\n",
      "<class 'tuple'>\n",
      "<class 'tuple'>\n",
      "<class 'tuple'>\n",
      "<class 'tuple'>\n",
      "<class 'tuple'>\n",
      "<class 'tuple'>\n",
      "<class 'tuple'>\n",
      "<class 'tuple'>\n",
      "<class 'tuple'>\n",
      "<class 'tuple'>\n",
      "<class 'tuple'>\n",
      "<class 'tuple'>\n",
      "<class 'tuple'>\n",
      "<class 'tuple'>\n",
      "<class 'tuple'>\n",
      "<class 'tuple'>\n",
      "<class 'tuple'>\n",
      "<class 'tuple'>\n",
      "<class 'tuple'>\n",
      "<class 'tuple'>\n",
      "<class 'tuple'>\n",
      "<class 'tuple'>\n",
      "<class 'tuple'>\n",
      "<class 'tuple'>\n",
      "<class 'tuple'>\n",
      "<class 'tuple'>\n",
      "<class 'tuple'>\n",
      "<class 'tuple'>\n",
      "<class 'tuple'>\n",
      "<class 'tuple'>\n",
      "<class 'tuple'>\n",
      "<class 'tuple'>\n",
      "<class 'tuple'>\n",
      "<class 'tuple'>\n",
      "<class 'tuple'>\n",
      "<class 'tuple'>\n",
      "<class 'tuple'>\n",
      "<class 'tuple'>\n",
      "<class 'tuple'>\n",
      "<class 'tuple'>\n",
      "<class 'tuple'>\n",
      "<class 'tuple'>\n",
      "<class 'tuple'>\n",
      "<class 'tuple'>\n",
      "<class 'tuple'>\n",
      "<class 'tuple'>\n",
      "<class 'tuple'>\n",
      "<class 'tuple'>\n",
      "<class 'tuple'>\n",
      "<class 'tuple'>\n",
      "<class 'tuple'>\n",
      "<class 'tuple'>\n",
      "<class 'tuple'>\n",
      "<class 'tuple'>\n",
      "<class 'tuple'>\n",
      "<class 'tuple'>\n",
      "<class 'tuple'>\n",
      "<class 'tuple'>\n",
      "<class 'tuple'>\n",
      "<class 'tuple'>\n",
      "<class 'tuple'>\n",
      "<class 'tuple'>\n",
      "<class 'tuple'>\n",
      "<class 'tuple'>\n",
      "<class 'tuple'>\n",
      "<class 'tuple'>\n",
      "<class 'tuple'>\n",
      "<class 'tuple'>\n",
      "<class 'tuple'>\n",
      "<class 'tuple'>\n",
      "<class 'tuple'>\n",
      "<class 'tuple'>\n",
      "<class 'tuple'>\n",
      "<class 'tuple'>\n",
      "<class 'tuple'>\n",
      "<class 'tuple'>\n",
      "<class 'tuple'>\n",
      "<class 'tuple'>\n",
      "<class 'tuple'>\n",
      "<class 'tuple'>\n",
      "<class 'tuple'>\n",
      "<class 'tuple'>\n",
      "<class 'tuple'>\n",
      "<class 'tuple'>\n",
      "<class 'tuple'>\n",
      "<class 'tuple'>\n",
      "<class 'tuple'>\n",
      "<class 'tuple'>\n",
      "<class 'tuple'>\n",
      "<class 'tuple'>\n",
      "<class 'tuple'>\n",
      "<class 'tuple'>\n",
      "<class 'tuple'>\n",
      "<class 'tuple'>\n",
      "<class 'tuple'>\n",
      "<class 'tuple'>\n",
      "<class 'tuple'>\n",
      "<class 'tuple'>\n",
      "<class 'tuple'>\n",
      "<class 'tuple'>\n",
      "<class 'tuple'>\n",
      "<class 'tuple'>\n",
      "<class 'tuple'>\n",
      "<class 'tuple'>\n",
      "<class 'tuple'>\n",
      "<class 'tuple'>\n",
      "<class 'tuple'>\n",
      "<class 'tuple'>\n",
      "<class 'tuple'>\n",
      "<class 'tuple'>\n",
      "<class 'tuple'>\n",
      "<class 'tuple'>\n",
      "<class 'tuple'>\n",
      "<class 'tuple'>\n",
      "<class 'tuple'>\n",
      "<class 'tuple'>\n",
      "<class 'tuple'>\n",
      "<class 'tuple'>\n",
      "<class 'tuple'>\n",
      "<class 'tuple'>\n",
      "<class 'tuple'>\n",
      "<class 'tuple'>\n",
      "<class 'tuple'>\n",
      "<class 'tuple'>\n",
      "<class 'tuple'>\n",
      "<class 'tuple'>\n",
      "<class 'tuple'>\n",
      "<class 'tuple'>\n",
      "<class 'tuple'>\n",
      "<class 'tuple'>\n",
      "<class 'tuple'>\n",
      "<class 'tuple'>\n",
      "<class 'tuple'>\n",
      "<class 'tuple'>\n",
      "<class 'tuple'>\n",
      "<class 'tuple'>\n",
      "<class 'tuple'>\n",
      "<class 'tuple'>\n",
      "<class 'tuple'>\n",
      "<class 'tuple'>\n",
      "<class 'tuple'>\n",
      "<class 'tuple'>\n",
      "<class 'tuple'>\n",
      "<class 'tuple'>\n",
      "<class 'tuple'>\n",
      "<class 'tuple'>\n",
      "<class 'tuple'>\n",
      "<class 'tuple'>\n",
      "<class 'tuple'>\n",
      "<class 'tuple'>\n",
      "<class 'tuple'>\n",
      "<class 'tuple'>\n",
      "<class 'tuple'>\n",
      "<class 'tuple'>\n",
      "<class 'tuple'>\n",
      "<class 'tuple'>\n",
      "<class 'tuple'>\n",
      "<class 'tuple'>\n",
      "<class 'tuple'>\n",
      "<class 'tuple'>\n",
      "<class 'tuple'>\n",
      "<class 'tuple'>\n",
      "<class 'tuple'>\n",
      "<class 'tuple'>\n",
      "<class 'tuple'>\n",
      "<class 'tuple'>\n",
      "<class 'tuple'>\n",
      "<class 'tuple'>\n",
      "<class 'tuple'>\n",
      "<class 'tuple'>\n",
      "<class 'tuple'>\n",
      "<class 'tuple'>\n",
      "<class 'tuple'>\n",
      "<class 'tuple'>\n",
      "<class 'tuple'>\n",
      "<class 'tuple'>\n",
      "<class 'tuple'>\n",
      "<class 'tuple'>\n",
      "<class 'tuple'>\n",
      "<class 'tuple'>\n",
      "<class 'tuple'>\n",
      "<class 'tuple'>\n",
      "<class 'tuple'>\n",
      "<class 'tuple'>\n",
      "<class 'tuple'>\n",
      "<class 'tuple'>\n",
      "<class 'tuple'>\n",
      "<class 'tuple'>\n",
      "<class 'tuple'>\n",
      "<class 'tuple'>\n",
      "<class 'tuple'>\n",
      "<class 'tuple'>\n",
      "<class 'tuple'>\n",
      "<class 'tuple'>\n",
      "<class 'tuple'>\n",
      "<class 'tuple'>\n",
      "<class 'tuple'>\n",
      "<class 'tuple'>\n",
      "<class 'tuple'>\n",
      "<class 'tuple'>\n",
      "<class 'tuple'>\n",
      "<class 'tuple'>\n",
      "<class 'tuple'>\n",
      "<class 'tuple'>\n",
      "<class 'tuple'>\n",
      "<class 'tuple'>\n",
      "<class 'tuple'>\n",
      "<class 'tuple'>\n",
      "<class 'tuple'>\n",
      "<class 'tuple'>\n",
      "<class 'tuple'>\n",
      "<class 'tuple'>\n",
      "<class 'tuple'>\n",
      "<class 'tuple'>\n",
      "<class 'tuple'>\n",
      "<class 'tuple'>\n",
      "<class 'tuple'>\n",
      "<class 'tuple'>\n",
      "<class 'tuple'>\n",
      "<class 'tuple'>\n",
      "<class 'tuple'>\n",
      "<class 'tuple'>\n",
      "<class 'tuple'>\n",
      "<class 'tuple'>\n",
      "<class 'tuple'>\n",
      "<class 'tuple'>\n",
      "<class 'tuple'>\n",
      "<class 'tuple'>\n",
      "<class 'tuple'>\n",
      "<class 'tuple'>\n",
      "<class 'tuple'>\n",
      "<class 'tuple'>\n",
      "<class 'tuple'>\n",
      "<class 'tuple'>\n",
      "<class 'tuple'>\n",
      "<class 'tuple'>\n",
      "<class 'tuple'>\n",
      "<class 'tuple'>\n",
      "<class 'tuple'>\n",
      "<class 'tuple'>\n",
      "<class 'tuple'>\n",
      "<class 'tuple'>\n",
      "<class 'tuple'>\n",
      "<class 'tuple'>\n",
      "<class 'tuple'>\n",
      "<class 'tuple'>\n",
      "<class 'tuple'>\n",
      "<class 'tuple'>\n",
      "<class 'tuple'>\n",
      "<class 'tuple'>\n",
      "<class 'tuple'>\n",
      "<class 'tuple'>\n",
      "<class 'tuple'>\n",
      "<class 'tuple'>\n",
      "<class 'tuple'>\n",
      "<class 'tuple'>\n",
      "<class 'tuple'>\n",
      "<class 'tuple'>\n",
      "<class 'tuple'>\n",
      "<class 'tuple'>\n",
      "<class 'tuple'>\n"
     ]
    }
   ],
   "source": [
    "for index, row in df_cleaned_UP.iterrows():\n",
    "    location = (row['Latitude'], row['Longitude'])\n",
    "    print(type(location))"
   ],
   "metadata": {
    "collapsed": false,
    "ExecuteTime": {
     "end_time": "2023-09-02T19:04:51.107045100Z",
     "start_time": "2023-09-02T19:04:51.075115900Z"
    }
   }
  },
  {
   "cell_type": "code",
   "execution_count": 99,
   "outputs": [
    {
     "data": {
      "text/plain": "Index(['Sl No', 'REGISTERED DISTRICT', 'Registered PS', 'FIR No.',\n       'TRANSFERRED DISTRICT', 'Transferred PS', 'Re registered FIR No.',\n       'Reason for transferring FIR', 'Location', 'Latitude', 'Longitude'],\n      dtype='object')"
     },
     "execution_count": 99,
     "metadata": {},
     "output_type": "execute_result"
    }
   ],
   "source": [
    "df_cleaned_UP.columns"
   ],
   "metadata": {
    "collapsed": false,
    "ExecuteTime": {
     "end_time": "2023-09-02T19:09:39.919324Z",
     "start_time": "2023-09-02T19:09:39.895201Z"
    }
   }
  },
  {
   "cell_type": "code",
   "execution_count": 101,
   "outputs": [],
   "source": [
    "df_sample = pd.read_csv('sample.csv')"
   ],
   "metadata": {
    "collapsed": false,
    "ExecuteTime": {
     "end_time": "2023-09-02T22:12:53.179537200Z",
     "start_time": "2023-09-02T22:12:53.155169500Z"
    }
   }
  },
  {
   "cell_type": "code",
   "execution_count": 102,
   "outputs": [
    {
     "data": {
      "text/plain": "Index(['FIR Number', 'Date and Time', 'Location', 'Accused Information',\n       'Accused email', 'criminal information', 'Incident Description',\n       'Crime Type'],\n      dtype='object')"
     },
     "execution_count": 102,
     "metadata": {},
     "output_type": "execute_result"
    }
   ],
   "source": [
    "df_sample.columns"
   ],
   "metadata": {
    "collapsed": false,
    "ExecuteTime": {
     "end_time": "2023-09-02T22:13:02.640510200Z",
     "start_time": "2023-09-02T22:13:02.625724100Z"
    }
   }
  },
  {
   "cell_type": "code",
   "execution_count": 103,
   "outputs": [],
   "source": [
    "df  = pd.read_csv('CLEANED_all_india_fir_data.csv')"
   ],
   "metadata": {
    "collapsed": false,
    "ExecuteTime": {
     "end_time": "2023-09-02T22:14:04.433572400Z",
     "start_time": "2023-09-02T22:14:04.398535Z"
    }
   }
  },
  {
   "cell_type": "code",
   "execution_count": 104,
   "outputs": [
    {
     "data": {
      "text/plain": "Index(['FIR Number', 'Date and Time', 'Location', 'Latitude', 'Longitude',\n       'Accused Information', 'Accused email', 'criminal information',\n       'Incident Description', 'Crime Type'],\n      dtype='object')"
     },
     "execution_count": 104,
     "metadata": {},
     "output_type": "execute_result"
    }
   ],
   "source": [
    "df.columns"
   ],
   "metadata": {
    "collapsed": false,
    "ExecuteTime": {
     "end_time": "2023-09-02T22:14:07.039698700Z",
     "start_time": "2023-09-02T22:14:07.025204100Z"
    }
   }
  },
  {
   "cell_type": "code",
   "execution_count": 106,
   "outputs": [
    {
     "data": {
      "text/plain": "Index(['FIR Number', 'Date and Time', 'Location', 'Latitude', 'Longitude',\n       'Accused Information', 'Accused email', 'criminal information',\n       'Incident Description', 'Crime Type', 'DateTime'],\n      dtype='object')"
     },
     "execution_count": 106,
     "metadata": {},
     "output_type": "execute_result"
    }
   ],
   "source": [
    "df_cleaned_india.columns"
   ],
   "metadata": {
    "collapsed": false,
    "ExecuteTime": {
     "end_time": "2023-09-02T22:16:11.037345600Z",
     "start_time": "2023-09-02T22:16:11.014845300Z"
    }
   }
  },
  {
   "cell_type": "code",
   "execution_count": 107,
   "outputs": [
    {
     "data": {
      "text/plain": "Index(['Sl No', 'REGISTERED DISTRICT', 'Registered PS', 'FIR No.',\n       'TRANSFERRED DISTRICT', 'Transferred PS', 'Re registered FIR No.',\n       'Reason for transferring FIR', 'Location', 'Latitude', 'Longitude'],\n      dtype='object')"
     },
     "execution_count": 107,
     "metadata": {},
     "output_type": "execute_result"
    }
   ],
   "source": [
    "df_cleaned_UP.columns"
   ],
   "metadata": {
    "collapsed": false,
    "ExecuteTime": {
     "end_time": "2023-09-02T22:17:29.891866300Z",
     "start_time": "2023-09-02T22:17:29.887866900Z"
    }
   }
  },
  {
   "cell_type": "code",
   "execution_count": 108,
   "outputs": [],
   "source": [
    "column1 = ['REGISTERED DISTRICT', 'Registered PS','Latitude', 'Longitude']\n",
    "column2 = ['FIR Number','Accused Information', 'Accused email', 'criminal information','Incident Description', 'Crime Type', 'DateTime' ]"
   ],
   "metadata": {
    "collapsed": false,
    "ExecuteTime": {
     "end_time": "2023-09-02T22:21:36.717722600Z",
     "start_time": "2023-09-02T22:21:36.699579900Z"
    }
   }
  },
  {
   "cell_type": "code",
   "execution_count": 109,
   "outputs": [],
   "source": [
    "PERFECT_FIR_DATASET = pd.DataFrame()"
   ],
   "metadata": {
    "collapsed": false,
    "ExecuteTime": {
     "end_time": "2023-09-02T22:22:10.446023300Z",
     "start_time": "2023-09-02T22:22:10.432148400Z"
    }
   }
  },
  {
   "cell_type": "code",
   "execution_count": 110,
   "outputs": [],
   "source": [
    "for i in column1:\n",
    "    PERFECT_FIR_DATASET[i] = df_cleaned_UP[i]\n",
    "for i in column2:\n",
    "    PERFECT_FIR_DATASET[i] = df_cleaned_india[i]"
   ],
   "metadata": {
    "collapsed": false,
    "ExecuteTime": {
     "end_time": "2023-09-02T22:23:13.944390300Z",
     "start_time": "2023-09-02T22:23:13.923211300Z"
    }
   }
  },
  {
   "cell_type": "code",
   "execution_count": 111,
   "outputs": [],
   "source": [
    "PERFECT_FIR_DATASET.to_csv('PERFECT_FIR_DATASET', index=False)"
   ],
   "metadata": {
    "collapsed": false,
    "ExecuteTime": {
     "end_time": "2023-09-02T22:23:34.872695100Z",
     "start_time": "2023-09-02T22:23:34.868320100Z"
    }
   }
  },
  {
   "cell_type": "code",
   "execution_count": 117,
   "outputs": [
    {
     "data": {
      "text/plain": "REGISTERED DISTRICT     0\nRegistered PS           0\nLatitude                0\nLongitude               0\nFIR Number              0\nAccused Information     0\nAccused email           0\ncriminal information    0\nIncident Description    0\nCrime Type              0\nDateTime                0\ndtype: int64"
     },
     "execution_count": 117,
     "metadata": {},
     "output_type": "execute_result"
    }
   ],
   "source": [
    "PERFECT_FIR_DATASET.isnull().sum()"
   ],
   "metadata": {
    "collapsed": false,
    "ExecuteTime": {
     "end_time": "2023-09-02T22:26:02.205148Z",
     "start_time": "2023-09-02T22:26:02.200914500Z"
    }
   }
  },
  {
   "cell_type": "code",
   "execution_count": 116,
   "outputs": [],
   "source": [
    "PERFECT_FIR_DATASET.dropna(inplace=True)"
   ],
   "metadata": {
    "collapsed": false,
    "ExecuteTime": {
     "end_time": "2023-09-02T22:25:54.536602700Z",
     "start_time": "2023-09-02T22:25:54.532018700Z"
    }
   }
  },
  {
   "cell_type": "code",
   "execution_count": 118,
   "outputs": [],
   "source": [
    "PERFECT_FIR_DATASET.to_csv('PERFECT_FIR_DATASET.csv', index=False)"
   ],
   "metadata": {
    "collapsed": false,
    "ExecuteTime": {
     "end_time": "2023-09-02T22:26:09.470763900Z",
     "start_time": "2023-09-02T22:26:09.440071300Z"
    }
   }
  },
  {
   "cell_type": "code",
   "execution_count": 119,
   "outputs": [
    {
     "data": {
      "text/plain": "Index(['REGISTERED DISTRICT', 'Registered PS', 'Latitude', 'Longitude',\n       'FIR Number', 'Accused Information', 'Accused email',\n       'criminal information', 'Incident Description', 'Crime Type',\n       'DateTime'],\n      dtype='object')"
     },
     "execution_count": 119,
     "metadata": {},
     "output_type": "execute_result"
    }
   ],
   "source": [
    "PERFECT_FIR_DATASET.columns"
   ],
   "metadata": {
    "collapsed": false,
    "ExecuteTime": {
     "end_time": "2023-09-02T22:27:34.565167Z",
     "start_time": "2023-09-02T22:27:34.524069100Z"
    }
   }
  },
  {
   "cell_type": "code",
   "execution_count": 120,
   "outputs": [
    {
     "ename": "AttributeError",
     "evalue": "'Series' object has no attribute 'time'",
     "output_type": "error",
     "traceback": [
      "\u001B[1;31m---------------------------------------------------------------------------\u001B[0m",
      "\u001B[1;31mAttributeError\u001B[0m                            Traceback (most recent call last)",
      "\u001B[1;32m~\\AppData\\Local\\Temp\\ipykernel_20236\\3547614540.py\u001B[0m in \u001B[0;36m?\u001B[1;34m()\u001B[0m\n\u001B[1;32m----> 1\u001B[1;33m \u001B[0mtime\u001B[0m \u001B[1;33m=\u001B[0m \u001B[0mpd\u001B[0m\u001B[1;33m.\u001B[0m\u001B[0mto_datetime\u001B[0m\u001B[1;33m(\u001B[0m\u001B[0mPERFECT_FIR_DATASET\u001B[0m\u001B[1;33m[\u001B[0m\u001B[1;34m'DateTime'\u001B[0m\u001B[1;33m]\u001B[0m\u001B[1;33m,\u001B[0m \u001B[0mformat\u001B[0m\u001B[1;33m=\u001B[0m\u001B[1;34m'%H:%M:%S'\u001B[0m\u001B[1;33m)\u001B[0m\u001B[1;33m.\u001B[0m\u001B[0mtime\u001B[0m\u001B[1;33m(\u001B[0m\u001B[1;33m)\u001B[0m\u001B[1;33m\u001B[0m\u001B[1;33m\u001B[0m\u001B[0m\n\u001B[0m",
      "\u001B[1;32m~\\AppData\\Local\\Packages\\PythonSoftwareFoundation.Python.3.11_qbz5n2kfra8p0\\LocalCache\\local-packages\\Python311\\site-packages\\pandas\\core\\generic.py\u001B[0m in \u001B[0;36m?\u001B[1;34m(self, name)\u001B[0m\n\u001B[0;32m   6198\u001B[0m             \u001B[1;32mand\u001B[0m \u001B[0mname\u001B[0m \u001B[1;32mnot\u001B[0m \u001B[1;32min\u001B[0m \u001B[0mself\u001B[0m\u001B[1;33m.\u001B[0m\u001B[0m_accessors\u001B[0m\u001B[1;33m\u001B[0m\u001B[1;33m\u001B[0m\u001B[0m\n\u001B[0;32m   6199\u001B[0m             \u001B[1;32mand\u001B[0m \u001B[0mself\u001B[0m\u001B[1;33m.\u001B[0m\u001B[0m_info_axis\u001B[0m\u001B[1;33m.\u001B[0m\u001B[0m_can_hold_identifiers_and_holds_name\u001B[0m\u001B[1;33m(\u001B[0m\u001B[0mname\u001B[0m\u001B[1;33m)\u001B[0m\u001B[1;33m\u001B[0m\u001B[1;33m\u001B[0m\u001B[0m\n\u001B[0;32m   6200\u001B[0m         ):\n\u001B[0;32m   6201\u001B[0m             \u001B[1;32mreturn\u001B[0m \u001B[0mself\u001B[0m\u001B[1;33m[\u001B[0m\u001B[0mname\u001B[0m\u001B[1;33m]\u001B[0m\u001B[1;33m\u001B[0m\u001B[1;33m\u001B[0m\u001B[0m\n\u001B[1;32m-> 6202\u001B[1;33m         \u001B[1;32mreturn\u001B[0m \u001B[0mobject\u001B[0m\u001B[1;33m.\u001B[0m\u001B[0m__getattribute__\u001B[0m\u001B[1;33m(\u001B[0m\u001B[0mself\u001B[0m\u001B[1;33m,\u001B[0m \u001B[0mname\u001B[0m\u001B[1;33m)\u001B[0m\u001B[1;33m\u001B[0m\u001B[1;33m\u001B[0m\u001B[0m\n\u001B[0m",
      "\u001B[1;31mAttributeError\u001B[0m: 'Series' object has no attribute 'time'"
     ]
    }
   ],
   "source": [
    "time = pd.to_datetime(PERFECT_FIR_DATASET['DateTime'], format='%H:%M:%S').time()"
   ],
   "metadata": {
    "collapsed": false,
    "ExecuteTime": {
     "end_time": "2023-09-02T22:44:07.659058Z",
     "start_time": "2023-09-02T22:44:07.581370Z"
    }
   }
  },
  {
   "cell_type": "code",
   "execution_count": 121,
   "outputs": [
    {
     "ename": "AttributeError",
     "evalue": "'Series' object has no attribute 'split'",
     "output_type": "error",
     "traceback": [
      "\u001B[1;31m---------------------------------------------------------------------------\u001B[0m",
      "\u001B[1;31mAttributeError\u001B[0m                            Traceback (most recent call last)",
      "\u001B[1;32m~\\AppData\\Local\\Temp\\ipykernel_20236\\1175976216.py\u001B[0m in \u001B[0;36m?\u001B[1;34m()\u001B[0m\n\u001B[1;32m----> 1\u001B[1;33m \u001B[0mtime_of_day\u001B[0m \u001B[1;33m=\u001B[0m \u001B[0mPERFECT_FIR_DATASET\u001B[0m\u001B[1;33m[\u001B[0m\u001B[1;34m'DateTime'\u001B[0m\u001B[1;33m]\u001B[0m\u001B[1;33m.\u001B[0m\u001B[0msplit\u001B[0m\u001B[1;33m(\u001B[0m\u001B[1;34m' '\u001B[0m\u001B[1;33m)\u001B[0m\u001B[1;33m[\u001B[0m\u001B[1;33m-\u001B[0m\u001B[1;36m1\u001B[0m\u001B[1;33m]\u001B[0m\u001B[1;33m\u001B[0m\u001B[1;33m\u001B[0m\u001B[0m\n\u001B[0m",
      "\u001B[1;32m~\\AppData\\Local\\Packages\\PythonSoftwareFoundation.Python.3.11_qbz5n2kfra8p0\\LocalCache\\local-packages\\Python311\\site-packages\\pandas\\core\\generic.py\u001B[0m in \u001B[0;36m?\u001B[1;34m(self, name)\u001B[0m\n\u001B[0;32m   6198\u001B[0m             \u001B[1;32mand\u001B[0m \u001B[0mname\u001B[0m \u001B[1;32mnot\u001B[0m \u001B[1;32min\u001B[0m \u001B[0mself\u001B[0m\u001B[1;33m.\u001B[0m\u001B[0m_accessors\u001B[0m\u001B[1;33m\u001B[0m\u001B[1;33m\u001B[0m\u001B[0m\n\u001B[0;32m   6199\u001B[0m             \u001B[1;32mand\u001B[0m \u001B[0mself\u001B[0m\u001B[1;33m.\u001B[0m\u001B[0m_info_axis\u001B[0m\u001B[1;33m.\u001B[0m\u001B[0m_can_hold_identifiers_and_holds_name\u001B[0m\u001B[1;33m(\u001B[0m\u001B[0mname\u001B[0m\u001B[1;33m)\u001B[0m\u001B[1;33m\u001B[0m\u001B[1;33m\u001B[0m\u001B[0m\n\u001B[0;32m   6200\u001B[0m         ):\n\u001B[0;32m   6201\u001B[0m             \u001B[1;32mreturn\u001B[0m \u001B[0mself\u001B[0m\u001B[1;33m[\u001B[0m\u001B[0mname\u001B[0m\u001B[1;33m]\u001B[0m\u001B[1;33m\u001B[0m\u001B[1;33m\u001B[0m\u001B[0m\n\u001B[1;32m-> 6202\u001B[1;33m         \u001B[1;32mreturn\u001B[0m \u001B[0mobject\u001B[0m\u001B[1;33m.\u001B[0m\u001B[0m__getattribute__\u001B[0m\u001B[1;33m(\u001B[0m\u001B[0mself\u001B[0m\u001B[1;33m,\u001B[0m \u001B[0mname\u001B[0m\u001B[1;33m)\u001B[0m\u001B[1;33m\u001B[0m\u001B[1;33m\u001B[0m\u001B[0m\n\u001B[0m",
      "\u001B[1;31mAttributeError\u001B[0m: 'Series' object has no attribute 'split'"
     ]
    }
   ],
   "source": [
    "time_of_day = PERFECT_FIR_DATASET['DateTime'].split(' ')[-1]"
   ],
   "metadata": {
    "collapsed": false,
    "ExecuteTime": {
     "end_time": "2023-09-02T22:45:22.323945700Z",
     "start_time": "2023-09-02T22:45:22.280211600Z"
    }
   }
  },
  {
   "cell_type": "code",
   "execution_count": 125,
   "outputs": [
    {
     "ename": "AttributeError",
     "evalue": "'Series' object has no attribute 'hour'",
     "output_type": "error",
     "traceback": [
      "\u001B[1;31m---------------------------------------------------------------------------\u001B[0m",
      "\u001B[1;31mAttributeError\u001B[0m                            Traceback (most recent call last)",
      "\u001B[1;32m~\\AppData\\Local\\Temp\\ipykernel_20236\\672850163.py\u001B[0m in \u001B[0;36m?\u001B[1;34m()\u001B[0m\n\u001B[1;32m----> 1\u001B[1;33m \u001B[0mPERFECT_FIR_DATASET\u001B[0m\u001B[1;33m[\u001B[0m\u001B[1;34m'DateTime'\u001B[0m\u001B[1;33m]\u001B[0m\u001B[1;33m.\u001B[0m\u001B[0mhour\u001B[0m\u001B[1;33m\u001B[0m\u001B[1;33m\u001B[0m\u001B[0m\n\u001B[0m",
      "\u001B[1;32m~\\AppData\\Local\\Packages\\PythonSoftwareFoundation.Python.3.11_qbz5n2kfra8p0\\LocalCache\\local-packages\\Python311\\site-packages\\pandas\\core\\generic.py\u001B[0m in \u001B[0;36m?\u001B[1;34m(self, name)\u001B[0m\n\u001B[0;32m   6198\u001B[0m             \u001B[1;32mand\u001B[0m \u001B[0mname\u001B[0m \u001B[1;32mnot\u001B[0m \u001B[1;32min\u001B[0m \u001B[0mself\u001B[0m\u001B[1;33m.\u001B[0m\u001B[0m_accessors\u001B[0m\u001B[1;33m\u001B[0m\u001B[1;33m\u001B[0m\u001B[0m\n\u001B[0;32m   6199\u001B[0m             \u001B[1;32mand\u001B[0m \u001B[0mself\u001B[0m\u001B[1;33m.\u001B[0m\u001B[0m_info_axis\u001B[0m\u001B[1;33m.\u001B[0m\u001B[0m_can_hold_identifiers_and_holds_name\u001B[0m\u001B[1;33m(\u001B[0m\u001B[0mname\u001B[0m\u001B[1;33m)\u001B[0m\u001B[1;33m\u001B[0m\u001B[1;33m\u001B[0m\u001B[0m\n\u001B[0;32m   6200\u001B[0m         ):\n\u001B[0;32m   6201\u001B[0m             \u001B[1;32mreturn\u001B[0m \u001B[0mself\u001B[0m\u001B[1;33m[\u001B[0m\u001B[0mname\u001B[0m\u001B[1;33m]\u001B[0m\u001B[1;33m\u001B[0m\u001B[1;33m\u001B[0m\u001B[0m\n\u001B[1;32m-> 6202\u001B[1;33m         \u001B[1;32mreturn\u001B[0m \u001B[0mobject\u001B[0m\u001B[1;33m.\u001B[0m\u001B[0m__getattribute__\u001B[0m\u001B[1;33m(\u001B[0m\u001B[0mself\u001B[0m\u001B[1;33m,\u001B[0m \u001B[0mname\u001B[0m\u001B[1;33m)\u001B[0m\u001B[1;33m\u001B[0m\u001B[1;33m\u001B[0m\u001B[0m\n\u001B[0m",
      "\u001B[1;31mAttributeError\u001B[0m: 'Series' object has no attribute 'hour'"
     ]
    }
   ],
   "source": [
    "PERFECT_FIR_DATASET['DateTime'].hour"
   ],
   "metadata": {
    "collapsed": false,
    "ExecuteTime": {
     "end_time": "2023-09-02T23:00:22.871688Z",
     "start_time": "2023-09-02T23:00:22.856801800Z"
    }
   }
  },
  {
   "cell_type": "code",
   "execution_count": null,
   "outputs": [],
   "source": [],
   "metadata": {
    "collapsed": false
   }
  }
 ],
 "metadata": {
  "kernelspec": {
   "display_name": "Python 3",
   "language": "python",
   "name": "python3"
  },
  "language_info": {
   "codemirror_mode": {
    "name": "ipython",
    "version": 2
   },
   "file_extension": ".py",
   "mimetype": "text/x-python",
   "name": "python",
   "nbconvert_exporter": "python",
   "pygments_lexer": "ipython2",
   "version": "2.7.6"
  }
 },
 "nbformat": 4,
 "nbformat_minor": 0
}
